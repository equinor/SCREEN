{
 "cells": [
  {
   "cell_type": "code",
   "execution_count": 1,
   "metadata": {},
   "outputs": [],
   "source": [
    "%load_ext autoreload\n",
    "%autoreload 2"
   ]
  },
  {
   "cell_type": "code",
   "execution_count": 2,
   "metadata": {},
   "outputs": [],
   "source": [
    "\n",
    "import os\n",
    "import sys\n",
    "import json\n",
    "\n",
    "import numpy as np\n",
    "import pandas as pd\n",
    "\n",
    "import matplotlib.pyplot as plt\n",
    "from matplotlib import rcParams\n",
    "from matplotlib import font_manager\n",
    "%matplotlib inline\n",
    "import matplotlib.colors as colors\n"
   ]
  },
  {
   "cell_type": "code",
   "execution_count": 3,
   "metadata": {},
   "outputs": [],
   "source": [
    "# resource configuration\n",
    "rcParams['figure.dpi'] = 200\n",
    "\n",
    "# fount information\n",
    "rcParams['font.family'] = 'Equinor'\n",
    "rcParams['font.size'] = 9\n",
    "\n",
    "# fornt location\n",
    "font_path = r'Equinor_regular'\n",
    "font_files = font_manager.findSystemFonts(fontpaths=font_path)\n",
    "\n",
    "for font_file in font_files:\n",
    "    font_manager.fontManager.addfont(font_file)"
   ]
  },
  {
   "cell_type": "code",
   "execution_count": 4,
   "metadata": {},
   "outputs": [],
   "source": [
    "from ecl.eclfile import EclFile\n",
    "from ecl.eclfile import EclInitFile, EclRestartFile\n",
    "from ecl.grid import EclGrid\n",
    "#import rips "
   ]
  },
  {
   "cell_type": "code",
   "execution_count": 5,
   "metadata": {},
   "outputs": [],
   "source": [
    "# where WellClass and Ga[ codes are located\n",
    "sys.path.append('../')"
   ]
  },
  {
   "cell_type": "code",
   "execution_count": 6,
   "metadata": {},
   "outputs": [],
   "source": [
    "# GaP\n",
    "from src.GaP.libs.models import (\n",
    "    PipeCementModel,\n",
    "    ElemModel,\n",
    "    DepthModel,\n",
    ")\n",
    "\n",
    "from src.GaP.libs.carfin import build_grdecl"
   ]
  },
  {
   "cell_type": "code",
   "execution_count": 7,
   "metadata": {},
   "outputs": [],
   "source": [
    "# WellClass\n",
    "from src.WellClass.libs.well_class import Well\n",
    "\n",
    "from src.WellClass.libs.utils import (\n",
    "    csv_parser,\n",
    "    yaml_parser,\n",
    ")\n",
    "from src.WellClass.libs.grid_utils.LGR_grid_utils import (\n",
    "    compute_ngrd,\n",
    "    generate_LGR_xy,\n",
    "    generate_LGR_z,\n",
    ")\n",
    "from src.WellClass.libs.grid_utils.LGR_bbox import (\n",
    "    get_ij_indices,\n",
    "    get_k_indices,\n",
    ")\n",
    "from src.WellClass.libs.grid_utils.df2gap import (\n",
    "    to_gap_casing_list,\n",
    "    to_gap_barrier_list\n",
    ")\n",
    "\n",
    "\n",
    "# plots\n",
    "from src.WellClass.libs.plotting import plot_well_perm"
   ]
  },
  {
   "cell_type": "markdown",
   "metadata": {},
   "source": [
    "## Some user options"
   ]
  },
  {
   "cell_type": "code",
   "execution_count": 8,
   "metadata": {},
   "outputs": [],
   "source": [
    "# TODO(hzh): use Ali's algorithm\n",
    "Ali_way = False"
   ]
  },
  {
   "cell_type": "code",
   "execution_count": 9,
   "metadata": {},
   "outputs": [],
   "source": [
    "# use yaml or csv input file\n",
    "use_yaml = True"
   ]
  },
  {
   "cell_type": "code",
   "execution_count": 10,
   "metadata": {},
   "outputs": [],
   "source": [
    "# pick an example from given three options\n",
    "\n",
    "case_type = 'cosmo'\n",
    "\n",
    "# case_type = 'smeaheia_v1'\n",
    "\n",
    "# case_type = 'smeaheia_v2'"
   ]
  },
  {
   "cell_type": "markdown",
   "metadata": {},
   "source": [
    "# Examples\n",
    "\n",
    "The following are the test examples."
   ]
  },
  {
   "cell_type": "code",
   "execution_count": 11,
   "metadata": {},
   "outputs": [],
   "source": [
    "# examples\n",
    "smeaheia_v1 = {'well_input': r'GaP_input_Smeaheia_v3.csv', \n",
    "               'well_input_yaml': r'smeaheia.yaml', \n",
    "            #    'sim_path': r'/scratch/SCS/eim/SMEAHEIA', \n",
    "               'sim_path': r'../test_data/examples/smeaheia_v1',\n",
    "               'simcase': r'GEN_NOLGR_PH2'}\n",
    "smeaheia_v2 = {'well_input': r'GaP_input_Smeaheia_v3.csv', \n",
    "               'well_input_yaml': r'smeaheia.yaml', \n",
    "            #    'sim_path': r'/scratch/SCS/bkh/wbook/realization-0/iter-0/pflotran/model', \n",
    "               'sim_path': r'../test_data/examples/smeaheia_v2', \n",
    "               'simcase': r'TEMP-0'}\n",
    "cosmo = {\n",
    "         'well_input': r'GaP_input_Cosmo_v3.csv', \n",
    "         'well_input_yaml': r'cosmo.yaml', \n",
    "        #  'sim_path': r'/scratch/SCS/bkh/well_class_test1/realization-0/iter-0/pflotran/model', \n",
    "         'sim_path': r'../test_data/examples/cosmo', \n",
    "         'simcase': r'TEMP-0'}"
   ]
  },
  {
   "cell_type": "code",
   "execution_count": 12,
   "metadata": {},
   "outputs": [],
   "source": [
    "examples = {\n",
    "    'smeaheia_v1': smeaheia_v1,\n",
    "    'smeaheia_v2': smeaheia_v2,\n",
    "    'cosmo': cosmo\n",
    "}"
   ]
  },
  {
   "cell_type": "markdown",
   "metadata": {},
   "source": [
    "# Load well CSV or yaml configuration file\n",
    "\n",
    "Process CSV with well class.\n",
    "Predefine a dictionary that includes the input CSV well file, the simulation path, and the PFT sim case name"
   ]
  },
  {
   "cell_type": "code",
   "execution_count": 13,
   "metadata": {},
   "outputs": [],
   "source": [
    "# the selected example for testing\n",
    "case = examples[case_type]\n"
   ]
  },
  {
   "cell_type": "code",
   "execution_count": 14,
   "metadata": {},
   "outputs": [],
   "source": [
    "\n",
    "# root_path = '/scratch/SCS/gpb/SCREEN/GaP_code'\n",
    "\n",
    "# where the location for the input parameters and eclipse .EGRID and .INIT files\n",
    "sim_path = case['sim_path']\n"
   ]
  },
  {
   "cell_type": "code",
   "execution_count": 15,
   "metadata": {},
   "outputs": [],
   "source": [
    "if use_yaml:\n",
    "    # where well configuration file is located\n",
    "    well_name = os.path.join(sim_path, case['well_input_yaml'])\n",
    "    \n",
    "    # # pydantic model\n",
    "    well_model = yaml_parser(well_name)\n",
    "    well_csv = json.loads(well_model.spec.model_dump_json())\n",
    "else:\n",
    "    # where well configuration file is located\n",
    "    well_name = os.path.join(sim_path, case['well_input'])\n",
    "\n",
    "    # load the well information\n",
    "    well_csv = csv_parser(well_name)"
   ]
  },
  {
   "cell_type": "code",
   "execution_count": 16,
   "metadata": {
    "scrolled": true
   },
   "outputs": [],
   "source": [
    "#Process well by running well class\n",
    "my_well = Well( header       = well_csv['well_header'], \n",
    "                drilling     = well_csv['drilling'],\n",
    "                casings      = well_csv['casing_cement'],\n",
    "                geology      = well_csv['geology'],\n",
    "                barriers     = well_csv['barriers'], \n",
    "                barrier_perm = well_csv['barrier_permeability'],\n",
    "                co2_datum    = well_csv['co2_datum'],\n",
    "           )"
   ]
  },
  {
   "attachments": {},
   "cell_type": "markdown",
   "metadata": {},
   "source": [
    "# Loading the model\n",
    "\n",
    "- Load the PFT grid, init and restart files.\n",
    "- Grid contains geometry specs\n",
    "- INIT contains static properties (i.e. poro., perm., transmissibilities)\n",
    "- RST contains dynamic properties (i.e. saturations, pressure)\n"
   ]
  },
  {
   "cell_type": "code",
   "execution_count": 17,
   "metadata": {},
   "outputs": [],
   "source": [
    "# simulation case without legacy well \n",
    "\n",
    "# path = '/scratch/SCS/bkh/wbook/realization-0/iter-0/pflotran/model'\n",
    "\n",
    "# location of .egrid\n",
    "simcase = os.path.join(sim_path, case['simcase'])\n",
    "\n",
    "#Get grid dimensions and coordinates\n",
    "grid = EclGrid(simcase + \".EGRID\") \n",
    "#init = EclGrid(simcase + \".INIT\") \n",
    "init = EclInitFile(grid, simcase + \".INIT\")\n",
    "# restart file\n",
    "# rst = EclRestartFile(grid, simcase + \".UNRST\")"
   ]
  },
  {
   "cell_type": "markdown",
   "metadata": {},
   "source": [
    "## The grid dimensions"
   ]
  },
  {
   "cell_type": "code",
   "execution_count": 18,
   "metadata": {},
   "outputs": [
    {
     "data": {
      "text/plain": [
       "(20, 20, 60, 24000)"
      ]
     },
     "execution_count": 18,
     "metadata": {},
     "output_type": "execute_result"
    }
   ],
   "source": [
    "NX, NY, NZ, total = grid.get_dims()\n",
    "NX, NY, NZ, total"
   ]
  },
  {
   "cell_type": "markdown",
   "metadata": {},
   "source": [
    "# Store INIT parameters into a Pandas Dataframe: grid_init"
   ]
  },
  {
   "cell_type": "code",
   "execution_count": 19,
   "metadata": {},
   "outputs": [],
   "source": [
    "grid_init = grid.export_index()"
   ]
  },
  {
   "cell_type": "code",
   "execution_count": 20,
   "metadata": {},
   "outputs": [],
   "source": [
    "# Static properties Dataframe\n",
    "for key in init.keys():\n",
    "        try:\n",
    "                grid_init[key] = init[key][0].numpy_view()\n",
    "        except:\n",
    "                continue"
   ]
  },
  {
   "cell_type": "code",
   "execution_count": 21,
   "metadata": {},
   "outputs": [],
   "source": [
    "#Create cell coordinate X, Y, Z\n",
    "\n",
    "# generate cell coordinates by shifting half cell size\n",
    "xcoord = (grid_init.query(\"j==0&k==0\").DX.cumsum() - grid_init.query(\"j==0&k==0\").DX/2).values\n",
    "ycoord = (grid_init.query(\"i==0&k==0\").DY.cumsum() - grid_init.query(\"i==0&k==0\").DY/2).values\n",
    "zcoord = (grid_init.query(\"i==0&j==0\").DZ.cumsum() - grid_init.query(\"i==0&j==0\").DZ/2).values\n",
    "\n",
    "# TODO(hzh): a bug?\n",
    "# map_X = dict(zip(grid_init.query(\"j==0&j==0\")['i'], xcoord))\n",
    "map_X = dict(zip(grid_init.query(\"j==0&k==0\")['i'], xcoord))\n",
    "map_Y = dict(zip(grid_init.query(\"i==0&k==0\")['j'], ycoord))\n",
    "map_Z = dict(zip(grid_init.query(\"i==0&j==0\")['k'], zcoord))\n",
    "\n",
    "# save cell coordinates to DataFrame\n",
    "grid_init['X'] = grid_init['i'].map(map_X)\n",
    "grid_init['Y'] = grid_init['j'].map(map_Y)\n",
    "grid_init['Z'] = grid_init['k'].map(map_Z)"
   ]
  },
  {
   "cell_type": "markdown",
   "metadata": {},
   "source": [
    "## Plot well sketch and 2D slice of the permeability, at coarse grid."
   ]
  },
  {
   "cell_type": "code",
   "execution_count": 22,
   "metadata": {},
   "outputs": [],
   "source": [
    "# middle indices of x and y\n",
    "mid_i = grid_init.i.max()//2\n",
    "mid_j = grid_init.j.max()//2"
   ]
  },
  {
   "cell_type": "code",
   "execution_count": 23,
   "metadata": {},
   "outputs": [],
   "source": [
    "# generate grid coordinates for plotting\n",
    "\n",
    "# grid coordinates\n",
    "xcorn  = (grid_init.query(\"j==0&k==0\").DX.cumsum()).values\n",
    "ycorn  = (grid_init.query(\"i==0&k==0\").DY.cumsum()).values\n",
    "zcorn  = (grid_init.query(\"i==0&j==0\").DZ.cumsum()).values\n",
    "\n",
    "# add origin coordinates\n",
    "xcorn = np.append(0, xcorn)\n",
    "ycorn = np.append(0, ycorn)\n",
    "zcorn = np.append(0, zcorn)"
   ]
  },
  {
   "cell_type": "code",
   "execution_count": 24,
   "metadata": {},
   "outputs": [],
   "source": [
    "# shift grid coordinates half-length in x-y directions, i.e., [0, 3900] => [-1900, 2100]\n",
    "# but not in z direction\n",
    "xcorn -= xcoord[mid_i]\n",
    "ycorn -= ycoord[mid_j]"
   ]
  },
  {
   "cell_type": "code",
   "execution_count": 25,
   "metadata": {},
   "outputs": [],
   "source": [
    "# extract 2D xz slice at middle of y\n",
    "XZ_slice = grid_init.query('j==@mid_j')"
   ]
  },
  {
   "cell_type": "code",
   "execution_count": 26,
   "metadata": {},
   "outputs": [
    {
     "data": {
      "image/png": "[encoded data removed]",
      "text/plain": [
       "<Figure size 1280x960 with 2 Axes>"
      ]
     },
     "metadata": {},
     "output_type": "display_data"
    }
   ],
   "source": [
    "\n",
    "# extract permeability\n",
    "Z = XZ_slice.PERMX.values.reshape(NZ, NX)\n",
    "\n",
    "# plot x-z slice\n",
    "plot_well_perm(my_well, x=xcorn, y=zcorn, Z=Z, on_coarse=True)"
   ]
  },
  {
   "cell_type": "markdown",
   "metadata": {},
   "source": [
    "# Grid information for coarse grid"
   ]
  },
  {
   "cell_type": "code",
   "execution_count": 27,
   "metadata": {},
   "outputs": [],
   "source": [
    "# Retrieve coarse x-y grid indexes where LGR will be placed\n",
    "\n",
    "# TODO(hzh): \n",
    "#   1) why switch i and j? \n",
    "main_grd_i     = grid_init.j.max()//2\n",
    "main_grd_j     = grid_init.i.max()//2\n",
    "\n",
    "# Rettrieve min and max k-index for column where LGR will be placed\n",
    "# TODO(hzh): Do I need to add 1 here?\n",
    "main_grd_min_k = grid_init.k.min()\n",
    "main_grd_max_k = grid_init.k.max()"
   ]
  },
  {
   "cell_type": "code",
   "execution_count": 28,
   "metadata": {},
   "outputs": [],
   "source": [
    "# Retrieve coarse cell sizes\n",
    "main_grd_dx = grid_init.query('i == @main_grd_i & j == @main_grd_j & k == k.min()')['DX'].iloc[0]\n",
    "main_grd_dy = grid_init.query('i == @main_grd_i & j == @main_grd_j & k == k.min()')['DY'].iloc[0]\n"
   ]
  },
  {
   "cell_type": "code",
   "execution_count": 29,
   "metadata": {},
   "outputs": [],
   "source": [
    "\n",
    "# Retrieve all DZ in coarse grid, not used\n",
    "main_DZ = grid_init.query('i == @main_grd_i & j == @main_grd_j')['DZ'].values\n",
    "\n",
    "main_DEPTH = grid_init.query('i == @main_grd_i & j == @main_grd_j')['DEPTH'].values\n",
    "\n",
    "# depth where LGR starts\n",
    "ref_depth = 0\n",
    "if Ali_way:\n",
    "    ref_depth = main_DEPTH[0] - 0.5*main_DZ[0]\n",
    "    "
   ]
  },
  {
   "cell_type": "code",
   "execution_count": 30,
   "metadata": {},
   "outputs": [
    {
     "data": {
      "text/plain": [
       "0"
      ]
     },
     "execution_count": 30,
     "metadata": {},
     "output_type": "execute_result"
    }
   ],
   "source": [
    "ref_depth"
   ]
  },
  {
   "cell_type": "code",
   "execution_count": 31,
   "metadata": {},
   "outputs": [
    {
     "data": {
      "text/plain": [
       "(10, 50)"
      ]
     },
     "execution_count": 31,
     "metadata": {},
     "output_type": "execute_result"
    }
   ],
   "source": [
    "#Retrieve number of cells representing water column and overburden\n",
    "no_of_layers_in_OB    = grid_init.query('i==@main_grd_i & j == @main_grd_j & DZ >  10')['DZ'].shape[0]\n",
    "no_of_layers_below_OB = grid_init.query('i==@main_grd_i & j == @main_grd_j & DZ <= 10')['DZ'].shape[0]\n",
    "\n",
    "no_of_layers_in_OB, no_of_layers_below_OB"
   ]
  },
  {
   "cell_type": "markdown",
   "metadata": {},
   "source": [
    "# Dataframes for drilling, casings, borehole and barriers"
   ]
  },
  {
   "cell_type": "code",
   "execution_count": 32,
   "metadata": {},
   "outputs": [],
   "source": [
    "# dataframes for the well\n",
    "drilling_df = pd.DataFrame(my_well.drilling)\n",
    "casings_df = pd.DataFrame(my_well.casings)\n",
    "borehole_df = pd.DataFrame(my_well.borehole)\n",
    "\n",
    "# and for the barriers\n",
    "barriers_df = pd.DataFrame(my_well.barriers)\n",
    "barriers_mod_df = pd.DataFrame(my_well.barriers_mod)"
   ]
  },
  {
   "cell_type": "code",
   "execution_count": 33,
   "metadata": {},
   "outputs": [],
   "source": [
    "# Compute annulus thickness. \n",
    "# For simplicty it assumes annulus between casing and openhole as entire annulus\n",
    "\n",
    "casings_df['ann_od_m'] = np.nan\n",
    "casings_df['ann_bottom_msl'] = np.nan\n",
    "\n",
    "# casing\n",
    "for idx, row in casings_df[::-1].iterrows():\n",
    "\n",
    "        # get id from casing\n",
    "        d, top, bottom = row[['diameter_m', 'top_msl', 'bottom_msl']]\n",
    "\n",
    "        # get od from drilling\n",
    "        hole = drilling_df[drilling_df['diameter_m'] > d].iloc[-1]\n",
    "    \n",
    "        hole_top, hole_bottom, hole_d = hole[['top_msl', 'bottom_msl', 'diameter_m']]\n",
    "\n",
    "        casings_df.loc[idx, 'ann_od_m'] = hole_d       # outer diameter in meters\n",
    "        casings_df.loc[idx, 'ann_bottom_msl'] = hole_bottom\n",
    "\n",
    "#Compute inner area\n",
    "casings_df['A_i'] = np.pi * (casings_df['diameter_m']/2)**2\n",
    "\n",
    "#Compute outer area\n",
    "casings_df['A_o'] = np.pi * (casings_df['ann_od_m']/2)**2\n",
    "\n",
    "# annulus thickness: (od-id)/2\n",
    "casings_df['thick_m'] = (casings_df['ann_od_m'] - casings_df['diameter_m'])/2"
   ]
  },
  {
   "cell_type": "markdown",
   "metadata": {},
   "source": [
    "# LGR grid information in x, y, z directions\n",
    "\n",
    "We are going to compute the grid sizes in lateral (x and y) and vertical directions"
   ]
  },
  {
   "cell_type": "markdown",
   "metadata": {},
   "source": [
    "### 1. Compute minimum grid size"
   ]
  },
  {
   "cell_type": "code",
   "execution_count": 34,
   "metadata": {},
   "outputs": [
    {
     "name": "stdout",
     "output_type": "stream",
     "text": [
      "Minimimum grid size is 5.24 cm\n"
     ]
    }
   ],
   "source": [
    "# 0. minimum grid size\n",
    "\n",
    "# minimum grid size depends on minimum annulus thickness\n",
    "min_grd_size = casings_df['thick_m'].min()\n",
    "\n",
    "if min_grd_size < 0.05:\n",
    "    min_grd_size = 0.05\n",
    "\n",
    "print(f'Minimimum grid size is {min_grd_size*100:.2f} cm')"
   ]
  },
  {
   "cell_type": "code",
   "execution_count": 35,
   "metadata": {},
   "outputs": [],
   "source": [
    "# TODO(hzh): manually set it\n",
    "if Ali_way:\n",
    "    min_grd_size = 0.05"
   ]
  },
  {
   "cell_type": "code",
   "execution_count": 36,
   "metadata": {},
   "outputs": [],
   "source": [
    "# 1. compute number of LGR grids for drilling, casing and borehole, respectively\n",
    "\n",
    "# for drilling\n",
    "drilling_df['n_grd_id']  = drilling_df['diameter_m'].map(lambda x: compute_ngrd(x, min_grd_size))\n",
    "\n",
    "# the following two are used in ...\n",
    "casings_df[ 'n_grd_id']  = casings_df['diameter_m'].map(lambda x: compute_ngrd(x, min_grd_size))\n",
    "borehole_df['n_grd_id'] = borehole_df['id_m'].map(lambda x: compute_ngrd(x, min_grd_size))"
   ]
  },
  {
   "cell_type": "markdown",
   "metadata": {},
   "source": [
    "### 2. Compute LGR grid sizes in x-y directions"
   ]
  },
  {
   "cell_type": "code",
   "execution_count": 37,
   "metadata": {},
   "outputs": [
    {
     "data": {
      "text/plain": [
       "16"
      ]
     },
     "execution_count": 37,
     "metadata": {},
     "output_type": "execute_result"
    }
   ],
   "source": [
    "# 2. compute LGR grid sizes in x-y directions\n",
    "\n",
    "# 2.1 Number of cells representing horizontal LGR\n",
    "no_latral_fine_grd = drilling_df['n_grd_id'].max()\n",
    "no_latral_fine_grd"
   ]
  },
  {
   "cell_type": "code",
   "execution_count": 38,
   "metadata": {},
   "outputs": [],
   "source": [
    "# 2.2 generate the LGR grid sizes in x-y\n",
    "LGR_sizes_x, LGR_sizes_y, _ = generate_LGR_xy(no_latral_fine_grd, \n",
    "                                              min_grd_size, \n",
    "                                              main_grd_dx, main_grd_dy,\n",
    "                                              Ali_way=Ali_way)"
   ]
  },
  {
   "cell_type": "markdown",
   "metadata": {},
   "source": [
    "### 3. Compute LGR grid sizes in z direction"
   ]
  },
  {
   "cell_type": "code",
   "execution_count": 39,
   "metadata": {},
   "outputs": [],
   "source": [
    "# 3. Compute LGR grid sizes in z direction\n",
    "\n",
    "# the dz value to distinguish zones between reservoir and ovb\n",
    "dz0 = 10\n",
    "\n",
    "# 3.1 DZs for reservoir\n",
    "DZ_rsrv = grid_init.query('i==@main_grd_i & j == @main_grd_j & DZ <= @dz0')['DZ'].values\n",
    "\n",
    "# 3.2 DZs for coarse grid\n",
    "DZ_ovb_coarse = grid_init.query('i==@main_grd_i & j == @main_grd_j & DZ > @dz0')['DZ'].values\n",
    "\n",
    "# 3.3 generate the LGR grid sizes in z\n",
    "# LGR_sizes_z, LGR_numb_z, LGR_depths, _ = generate_LGR_z(DZ_rsrv, DZ_ovb_coarse)\n",
    "# TODO(hzh): to make LGR starts at ref_depth\n",
    "LGR_sizes_z, LGR_numb_z, LGR_depths, _ = generate_LGR_z(DZ_rsrv, DZ_ovb_coarse, ref_depth)"
   ]
  },
  {
   "cell_type": "code",
   "execution_count": 40,
   "metadata": {},
   "outputs": [
    {
     "data": {
      "text/plain": [
       "(22, 22, 150)"
      ]
     },
     "execution_count": 40,
     "metadata": {},
     "output_type": "execute_result"
    }
   ],
   "source": [
    "# LGR dimensions\n",
    "nx = len(LGR_sizes_x)\n",
    "ny = len(LGR_sizes_y)\n",
    "nz = len(LGR_sizes_z)\n",
    "\n",
    "nx, ny, nz"
   ]
  },
  {
   "cell_type": "markdown",
   "metadata": {},
   "source": [
    "# Set up dataframe for LGR mesh"
   ]
  },
  {
   "cell_type": "code",
   "execution_count": 41,
   "metadata": {},
   "outputs": [],
   "source": [
    "#Create i, j, k indices\n",
    "cell_ijk = np.indices((nx, ny, nz))\n",
    "cell_ijk = cell_ijk.reshape((3, nx * ny * nz)).T"
   ]
  },
  {
   "cell_type": "code",
   "execution_count": 42,
   "metadata": {},
   "outputs": [],
   "source": [
    "#Create LGR Dataframe with indices\n",
    "mesh_df = pd.DataFrame(data = cell_ijk, columns = ['i', 'j', 'k'])\n",
    "\n",
    "mesh_df.sort_values(by=['k', 'i'], inplace = True)\n",
    "mesh_df.reset_index(inplace=True, drop=True)"
   ]
  },
  {
   "cell_type": "code",
   "execution_count": 43,
   "metadata": {},
   "outputs": [],
   "source": [
    "#Creat DX, DY, DZ for LGR mesh\n",
    "DX_grid, DZ_grid, DY_grid = np.meshgrid(LGR_sizes_x, LGR_sizes_z, LGR_sizes_y)\n",
    "\n",
    "mesh_df['DX'] = DX_grid.flatten()\n",
    "mesh_df['DY'] = DY_grid.flatten()\n",
    "mesh_df['DZ'] = DZ_grid.flatten()"
   ]
  },
  {
   "cell_type": "code",
   "execution_count": 44,
   "metadata": {},
   "outputs": [],
   "source": [
    "#Create cell coordinate X, Y, Z for LGR mesh\n",
    "\n",
    "# cell coordinates\n",
    "xcoord = (mesh_df.query(\"j==0&k==0\").DX.cumsum() - mesh_df.query(\"j==0&k==0\").DX/2).values\n",
    "ycoord = (mesh_df.query(\"i==0&k==0\").DY.cumsum() - mesh_df.query(\"i==0&k==0\").DY/2).values\n",
    "zcoord = (mesh_df.query(\"i==0&j==0\").DZ.cumsum() - mesh_df.query(\"i==0&j==0\").DZ/2).values\n",
    "\n",
    "# TODO(hzh): a bug?\n",
    "# map_X = dict(zip(mesh_df.query(\"j==0&j==0\")['i'], xcoord))\n",
    "map_X = dict(zip(mesh_df.query(\"j==0&k==0\")['i'], xcoord))\n",
    "map_Y = dict(zip(mesh_df.query(\"i==0&k==0\")['j'], ycoord))\n",
    "map_Z = dict(zip(mesh_df.query(\"i==0&j==0\")['k'], zcoord))\n",
    "\n",
    "# save cell coordinates X, Y, Z to dataframe\n",
    "mesh_df['X'] = mesh_df['i'].map(map_X)\n",
    "mesh_df['Y'] = mesh_df['j'].map(map_Y)\n",
    "mesh_df['Z'] = mesh_df['k'].map(map_Z)"
   ]
  },
  {
   "cell_type": "code",
   "execution_count": 45,
   "metadata": {},
   "outputs": [],
   "source": [
    "# save Corner Z points to dataframe\n",
    "mesh_df['Zcorn_top'] = mesh_df['Z'] - mesh_df['DZ']/2\n",
    "mesh_df['Zcorn_bottom'] = mesh_df['Z'] + mesh_df['DZ']/2"
   ]
  },
  {
   "cell_type": "markdown",
   "metadata": {},
   "source": [
    "## Upscale coarse properties to LGR grids"
   ]
  },
  {
   "cell_type": "code",
   "execution_count": 46,
   "metadata": {},
   "outputs": [
    {
     "data": {
      "text/plain": [
       "(10, 10)"
      ]
     },
     "execution_count": 46,
     "metadata": {},
     "output_type": "execute_result"
    }
   ],
   "source": [
    "# indices for center finer grid\n",
    "mid_i = mesh_df.i.max()//2\n",
    "mid_j = mesh_df.j.max()//2\n",
    "mid_i, mid_j"
   ]
  },
  {
   "cell_type": "code",
   "execution_count": 47,
   "metadata": {},
   "outputs": [],
   "source": [
    "# properties\n",
    "fields = ['PORV', \n",
    "          'PERMX', 'PERMY', 'PERMZ', \n",
    "          'MULTX', 'MULTY', 'MULTZ', \n",
    "          'MULTX-', 'MULTY-', 'MULTZ-', \n",
    "          'PORO']"
   ]
  },
  {
   "cell_type": "code",
   "execution_count": 48,
   "metadata": {},
   "outputs": [],
   "source": [
    "# Upscale coarse properties to LGR grids\n",
    "\n",
    "for field in fields:\n",
    "    # mesh_df[field] = np.nan\n",
    "    mesh_df[field] = 0.0                    # TODO(hzh): what should I put here?\n",
    "    \n",
    "for idx, row in grid_init.query('i==@mid_i & j==@mid_j').iterrows():\n",
    "\n",
    "    # switch to corner coords, coarse grid\n",
    "    top  = row.Z - row.DZ/2\n",
    "    base = row.Z + row.DZ/2\n",
    "\n",
    "    for field in fields:\n",
    "\n",
    "        mesh_df.loc[(mesh_df['Z']>=top) & (mesh_df['Z']<base), field] = row[field]\n"
   ]
  },
  {
   "cell_type": "markdown",
   "metadata": {},
   "source": [
    "# Bounding box for well elements\n",
    "\n",
    "Compute bounding boxes for drillings, casings and barriers."
   ]
  },
  {
   "cell_type": "markdown",
   "metadata": {},
   "source": [
    "### 1. Drillings"
   ]
  },
  {
   "cell_type": "code",
   "execution_count": 49,
   "metadata": {},
   "outputs": [],
   "source": [
    "# 1. compute bounding box of drillings\n",
    "\n",
    "drilling_df['k_min'] = np.nan\n",
    "drilling_df['k_max'] = np.nan\n",
    "drilling_df['ij_min'] = np.nan\n",
    "drilling_df['ij_max'] = np.nan\n",
    "\n",
    "for idx, row in drilling_df.iterrows():\n",
    "    \n",
    "    top, bottom = row['top_msl'], row['bottom_msl']\n",
    "\n",
    "    if top < mesh_df['Zcorn_bottom'].max():\n",
    "        \n",
    "        # k ranges\n",
    "        k_min, k_max = get_k_indices(mesh_df, top, bottom)\n",
    "\n",
    "        # x-y ranges\n",
    "        ij_min, ij_max = get_ij_indices(nx, row['n_grd_id'])\n",
    "\n",
    "        # to dataframe\n",
    "        drilling_df.loc[idx, 'k_min'] = k_min\n",
    "        drilling_df.loc[idx, 'k_max'] = k_max\n",
    "        drilling_df.loc[idx, 'ij_min'] = ij_min\n",
    "        drilling_df.loc[idx, 'ij_max'] = ij_max"
   ]
  },
  {
   "cell_type": "markdown",
   "metadata": {},
   "source": [
    "### 2. Casings"
   ]
  },
  {
   "cell_type": "code",
   "execution_count": 50,
   "metadata": {},
   "outputs": [],
   "source": [
    "# 2. computing bounding boxes of casings\n",
    "\n",
    "# casing, k\n",
    "casings_df['k_min'] = np.nan\n",
    "casings_df['k_max'] = np.nan\n",
    "# cement bond, k\n",
    "casings_df['toc_k_min'] = np.nan\n",
    "casings_df['toc_k_max'] = np.nan\n",
    "# casing, xy\n",
    "casings_df['ij_min'] = np.nan\n",
    "casings_df['ij_max'] = np.nan\n",
    "\n",
    "for idx, row in casings_df.iterrows():\n",
    "\n",
    "    # A) casing, z ranges\n",
    "    top, bottom  = row['top_msl'], row['bottom_msl']\n",
    "    \n",
    "    # convert to indices\n",
    "    k_min, k_max = get_k_indices(mesh_df, top, bottom)\n",
    "    \n",
    "    # B) cement, z ranges\n",
    "    toc, boc = row['toc_msl'], row['boc_msl']\n",
    "\n",
    "    # convert to indices\n",
    "    toc_k_min, toc_k_max = get_k_indices(mesh_df, toc, boc)\n",
    "    \n",
    "    # C) xy ranges\n",
    "    ij_min, ij_max = get_ij_indices(nx, row['n_grd_id'])\n",
    "    \n",
    "    # to dataframe\n",
    "    casings_df.loc[idx, 'k_min'] = k_min\n",
    "    casings_df.loc[idx, 'k_max'] = k_max\n",
    "    casings_df.loc[idx, 'toc_k_min'] = toc_k_min\n",
    "    casings_df.loc[idx, 'toc_k_max'] = toc_k_max\n",
    "    casings_df.loc[idx, 'ij_min'] = ij_min\n",
    "    casings_df.loc[idx, 'ij_max'] = ij_max"
   ]
  },
  {
   "cell_type": "markdown",
   "metadata": {},
   "source": [
    "### 3. Barriers"
   ]
  },
  {
   "cell_type": "code",
   "execution_count": 51,
   "metadata": {},
   "outputs": [],
   "source": [
    "# 3. computing bounding boxes of barriers\n",
    "\n",
    "barriers_mod_df['k_min'] = np.nan\n",
    "barriers_mod_df['k_max'] = np.nan\n",
    "for idx, row in barriers_mod_df.iterrows():\n",
    "    \n",
    "    k_min, k_max = get_k_indices(mesh_df, row.top_msl, row.bottom_msl)\n",
    "    \n",
    "    barriers_mod_df.loc[idx, 'k_min'] = k_min\n",
    "    barriers_mod_df.loc[idx, 'k_max'] = k_max"
   ]
  },
  {
   "attachments": {},
   "cell_type": "markdown",
   "metadata": {},
   "source": [
    "# Assign material types in mesh\n",
    "\n",
    "Assign material types, such as openholes, overburden, cement bond, etc."
   ]
  },
  {
   "cell_type": "code",
   "execution_count": 52,
   "metadata": {},
   "outputs": [],
   "source": [
    "# initialize material to overburden\n",
    "mesh_df['material'] = 'overburden'"
   ]
  },
  {
   "cell_type": "markdown",
   "metadata": {},
   "source": [
    "### 1. Drilling"
   ]
  },
  {
   "cell_type": "code",
   "execution_count": 53,
   "metadata": {},
   "outputs": [],
   "source": [
    "# 1. set material type\n",
    "for idx, row in drilling_df.iterrows():\n",
    "    \n",
    "    top, bottom = row['top_msl'], row['bottom_msl']\n",
    "\n",
    "    if top < mesh_df['Zcorn_bottom'].max():\n",
    "\n",
    "        # extract bounding box\n",
    "        k_min, k_max = row['k_min'], row['k_max']\n",
    "        ij_min, ij_max = row['ij_min'], row['ij_max']\n",
    "        \n",
    "        # 1.1 set material type to openhole\n",
    "        criteria =  '(k >= @k_min) & (k <= @k_max) & (i >= @ij_min) & (i <= @ij_max) & (j >= @ij_min) & (j <= @ij_max)'\n",
    "        mesh_df.loc[mesh_df.eval(criteria), 'material'] = 'openhole'"
   ]
  },
  {
   "cell_type": "markdown",
   "metadata": {},
   "source": [
    "### 2. Casings"
   ]
  },
  {
   "cell_type": "code",
   "execution_count": 54,
   "metadata": {},
   "outputs": [],
   "source": [
    "# 2. set material types to casings\n",
    "for ic, (idx, row) in enumerate(casings_df.iterrows()):\n",
    "\n",
    "    # extract bounding box\n",
    "    k_min, k_max = row['k_min'], row['k_max']\n",
    "    ij_min, ij_max = row['ij_min'], row['ij_max']\n",
    "    toc_k_min, toc_k_max = row['toc_k_min'], row['toc_k_max']\n",
    "    \n",
    "    # 2.1 set material type to annulus\n",
    "    # x\n",
    "    criteria_i =  '(material == \"openhole\") & (k >= @k_min) & (k <= @k_max) & ((i < @ij_min) | (i > @ij_max))'\n",
    "    mesh_df.loc[mesh_df.eval(criteria_i), 'material'] = 'annulus'\n",
    "    # y\n",
    "    criteria_j =  '(material == \"openhole\") & (k >= @k_min) & (k <= @k_max) & ((j < @ij_min) | (j > @ij_max))'\n",
    "    mesh_df.loc[mesh_df.eval(criteria_j), 'material'] = 'annulus'\n",
    "    \n",
    "    # 2.2 set material type to cement_bond\n",
    "    criteria = '(material == \"annulus\") & (k >= @toc_k_min) & (k <= @toc_k_max)' \n",
    "    mesh_df.loc[mesh_df.eval(criteria), 'material'] = f'cement_bond_{ic}'\n",
    "\n",
    "    # 2.3 set material type to openhole\n",
    "    criteria = '(material == \"annulus\")'  \n",
    "    mesh_df.loc[mesh_df.eval(criteria), 'material'] = 'openhole'\n",
    "    # mesh_df.loc[mesh_df.eval(criteria_j), 'material'] = 'cementbond'   "
   ]
  },
  {
   "cell_type": "markdown",
   "metadata": {},
   "source": [
    "### 3. Barriers"
   ]
  },
  {
   "cell_type": "code",
   "execution_count": 55,
   "metadata": {},
   "outputs": [],
   "source": [
    "# 3. set material type to barrier\n",
    "for ib, (idx, row) in enumerate(barriers_mod_df.iterrows()):\n",
    "    \n",
    "    b_k_min, b_k_max = row['k_min'], row['k_max']\n",
    "    \n",
    "    criteria = '(material == \"openhole\") & (k >= @b_k_min) & (k <= @b_k_max)' \n",
    "    mesh_df.loc[mesh_df.eval(criteria), 'material'] = f'barrier_{ib}'"
   ]
  },
  {
   "cell_type": "markdown",
   "metadata": {},
   "source": [
    "# Assign permeability according to material type"
   ]
  },
  {
   "cell_type": "code",
   "execution_count": 56,
   "metadata": {},
   "outputs": [
    {
     "data": {
      "text/html": [
       "<div>\n",
       "<style scoped>\n",
       "    .dataframe tbody tr th:only-of-type {\n",
       "        vertical-align: middle;\n",
       "    }\n",
       "\n",
       "    .dataframe tbody tr th {\n",
       "        vertical-align: top;\n",
       "    }\n",
       "\n",
       "    .dataframe thead th {\n",
       "        text-align: right;\n",
       "    }\n",
       "</style>\n",
       "<table border=\"1\" class=\"dataframe\">\n",
       "  <thead>\n",
       "    <tr style=\"text-align: right;\">\n",
       "      <th></th>\n",
       "      <th>b_name</th>\n",
       "      <th>top_msl</th>\n",
       "      <th>bottom_msl</th>\n",
       "      <th>diameter_m</th>\n",
       "      <th>barrier_perm</th>\n",
       "      <th>k_min</th>\n",
       "      <th>k_max</th>\n",
       "    </tr>\n",
       "  </thead>\n",
       "  <tbody>\n",
       "    <tr>\n",
       "      <th>cplug3_0</th>\n",
       "      <td>cplug3</td>\n",
       "      <td>105.0</td>\n",
       "      <td>123.0</td>\n",
       "      <td>0.508000</td>\n",
       "      <td>0.5</td>\n",
       "      <td>10.0</td>\n",
       "      <td>11.0</td>\n",
       "    </tr>\n",
       "    <tr>\n",
       "      <th>cplug2_1</th>\n",
       "      <td>cplug2</td>\n",
       "      <td>1663.0</td>\n",
       "      <td>1776.0</td>\n",
       "      <td>0.339725</td>\n",
       "      <td>100.0</td>\n",
       "      <td>77.0</td>\n",
       "      <td>81.0</td>\n",
       "    </tr>\n",
       "    <tr>\n",
       "      <th>cplug2_2</th>\n",
       "      <td>cplug2</td>\n",
       "      <td>1776.0</td>\n",
       "      <td>1823.0</td>\n",
       "      <td>0.311150</td>\n",
       "      <td>100.0</td>\n",
       "      <td>81.0</td>\n",
       "      <td>83.0</td>\n",
       "    </tr>\n",
       "    <tr>\n",
       "      <th>cplug1_2</th>\n",
       "      <td>cplug1</td>\n",
       "      <td>2023.0</td>\n",
       "      <td>2273.0</td>\n",
       "      <td>0.311150</td>\n",
       "      <td>5.0</td>\n",
       "      <td>91.0</td>\n",
       "      <td>108.0</td>\n",
       "    </tr>\n",
       "  </tbody>\n",
       "</table>\n",
       "</div>"
      ],
      "text/plain": [
       "          b_name  top_msl  bottom_msl  diameter_m  barrier_perm  k_min  k_max\n",
       "cplug3_0  cplug3    105.0       123.0    0.508000           0.5   10.0   11.0\n",
       "cplug2_1  cplug2   1663.0      1776.0    0.339725         100.0   77.0   81.0\n",
       "cplug2_2  cplug2   1776.0      1823.0    0.311150         100.0   81.0   83.0\n",
       "cplug1_2  cplug1   2023.0      2273.0    0.311150           5.0   91.0  108.0"
      ]
     },
     "execution_count": 56,
     "metadata": {},
     "output_type": "execute_result"
    }
   ],
   "source": [
    "barriers_mod_df"
   ]
  },
  {
   "cell_type": "code",
   "execution_count": 57,
   "metadata": {},
   "outputs": [],
   "source": [
    "# set permeability according to material type\n",
    "\n",
    "# 1. openhole\n",
    "oh_perm = drilling_df['oh_perm'].iloc[0]\n",
    "criteria = 'material == \"openhole\"'\n",
    "mesh_df.loc[mesh_df.eval(criteria), 'PERMX'] = oh_perm\n",
    "\n",
    "# 2. cement bond\n",
    "for ic, (_, row) in enumerate(casings_df.iterrows()):\n",
    "    cb_perm = row['cb_perm']\n",
    "    criteria = f'material == \"cement_bond_{ic}\"'\n",
    "    mesh_df.loc[mesh_df.eval(criteria), 'PERMX'] = cb_perm\n",
    "\n",
    "# 3. barrier\n",
    "for ib, (_, row) in enumerate(barriers_mod_df.iterrows()):\n",
    "    barrier_perm = row['barrier_perm']\n",
    "    criteria = f'material == \"barrier_{ib}\"'\n",
    "    mesh_df.loc[mesh_df.eval(criteria), 'PERMX'] = barrier_perm"
   ]
  },
  {
   "cell_type": "markdown",
   "metadata": {},
   "source": [
    "# Visualization of well sketch and LGR grids"
   ]
  },
  {
   "cell_type": "code",
   "execution_count": 58,
   "metadata": {},
   "outputs": [],
   "source": [
    "# grid coordinates at LGR grids for plotting\n",
    "xcorn  = (mesh_df.query(\"j==0&k==0\").DX.cumsum()).values\n",
    "ycorn  = (mesh_df.query(\"i==0&k==0\").DY.cumsum()).values\n",
    "zcorn  = (mesh_df.query(\"i==0&j==0\").DZ.cumsum()).values\n",
    "\n",
    "# add origin\n",
    "xcorn = np.append(0, xcorn)\n",
    "ycorn = np.append(0, ycorn)\n",
    "zcorn = np.append(0, zcorn)\n",
    "\n",
    "# shift it\n",
    "xcorn -= main_grd_dx/2\n",
    "ycorn -= main_grd_dy/2"
   ]
  },
  {
   "cell_type": "code",
   "execution_count": 59,
   "metadata": {},
   "outputs": [
    {
     "data": {
      "image/png": "[encoded data removed]",
      "text/plain": [
       "<Figure size 1280x960 with 2 Axes>"
      ]
     },
     "metadata": {},
     "output_type": "display_data"
    }
   ],
   "source": [
    "\n",
    "# LGR\n",
    "XZ_slice = mesh_df.query('j==@mid_i')\n",
    "\n",
    "# extract permeability value\n",
    "Z = XZ_slice.PERMX.values.reshape(nz, nx)\n",
    "\n",
    "# plot it\n",
    "plot_well_perm(my_well, x=xcorn, y=zcorn, Z=Z, on_coarse=False)\n"
   ]
  },
  {
   "attachments": {},
   "cell_type": "markdown",
   "metadata": {},
   "source": [
    "# Write LGR file"
   ]
  },
  {
   "cell_type": "code",
   "execution_count": 60,
   "metadata": {},
   "outputs": [],
   "source": [
    "output_dir = '.'"
   ]
  },
  {
   "cell_type": "code",
   "execution_count": 61,
   "metadata": {},
   "outputs": [],
   "source": [
    "# LRG name \n",
    "LGR_NAME = 'LEG_HIRES'"
   ]
  },
  {
   "cell_type": "code",
   "execution_count": 62,
   "metadata": {},
   "outputs": [
    {
     "name": "stdout",
     "output_type": "stream",
     "text": [
      "0 0.762 , cb_perm= 300.0\n",
      "1 0.508 , cb_perm= 5.0\n",
      "2 0.339725 , cb_perm= 500.0\n",
      "cplug3_0 0.508 105.0 123.0 0.5\n",
      "cplug2_1 0.339725 1663.0 1776.0 100.0\n",
      "cplug2_2 0.31115 1776.0 1823.0 100.0\n",
      "cplug1_2 0.31115 2023.0 2273.0 5.0\n"
     ]
    }
   ],
   "source": [
    "# prepare info about Casing, Cement Bond and Open hole  for GaP\n",
    "casing_list = to_gap_casing_list(drilling_df, \n",
    "                              casings_df)\n",
    "\n",
    "# prepare info about Barrier for GaP \n",
    "barrier_list = to_gap_barrier_list(barriers_mod_df)"
   ]
  },
  {
   "cell_type": "code",
   "execution_count": 63,
   "metadata": {},
   "outputs": [
    {
     "name": "stdout",
     "output_type": "stream",
     "text": [
      "...Prints isolating OVB from reservoir keywords in LEG_HIRES.grdecl file\n",
      "...Prints CARFIN Keywords in LEG_HIRES.grdecl file\n",
      "...Prints Casings, cement bonds and barrie(s) in LEG_HIRES.grdecl file\n",
      "...Prints isolating OVB from reservoir in the LGR in LEG_HIRES.grdecl file\n",
      "Output LGR CARFIN to:  /scratch/SCS/hzh/SCREEN/notebooks/LEG_HIRES.grdecl\n"
     ]
    }
   ],
   "source": [
    "# generate .grdecl file\n",
    "# TODO(hzh): add 1s to indices here\n",
    "build_grdecl(output_dir, LGR_NAME,\n",
    "                casing_list,\n",
    "                barrier_list,\n",
    "                LGR_sizes_x, \n",
    "                LGR_depths, \n",
    "                LGR_numb_z, \n",
    "                min_grd_size,\n",
    "                grid.getNX(), grid.getNY(),\n",
    "                main_grd_i + 1, main_grd_j + 1,\n",
    "                main_grd_min_k + 1, main_grd_max_k + 1,\n",
    "                no_of_layers_in_OB)"
   ]
  },
  {
   "cell_type": "code",
   "execution_count": 64,
   "metadata": {},
   "outputs": [
    {
     "name": "stdout",
     "output_type": "stream",
     "text": [
      "-rw-rw-r-- 1 hzh scs_ccs 5907 Sep 11 21:40 LEG_HIRES.grdecl\n",
      "-rw-rw-r-- 1 hzh scs_ccs 5383 Sep  5 19:35 LEG_HIRES.grdecl.smeaheia\n"
     ]
    }
   ],
   "source": [
    "!ls -l LEG_HIRES.grdecl*"
   ]
  },
  {
   "cell_type": "code",
   "execution_count": 65,
   "metadata": {},
   "outputs": [],
   "source": [
    "# check the results, only compare smeaheia_v1\n",
    "if case_type == 'smeaheia_v1' and Ali_way:\n",
    "    !diff LEG_HIRES.grdecl LEG_HIRES.grdecl.smeaheia"
   ]
  }
 ],
 "metadata": {
  "kernelspec": {
   "display_name": "Python 3 (ipykernel)",
   "language": "python",
   "name": "python3"
  },
  "language_info": {
   "codemirror_mode": {
    "name": "ipython",
    "version": 3
   },
   "file_extension": ".py",
   "mimetype": "text/x-python",
   "name": "python",
   "nbconvert_exporter": "python",
   "pygments_lexer": "ipython3",
   "version": "3.10.12"
  }
 },
 "nbformat": 4,
 "nbformat_minor": 4
}
