{
 "cells": [
  {
   "cell_type": "code",
   "execution_count": 55,
   "metadata": {},
   "outputs": [
    {
     "name": "stdout",
     "output_type": "stream",
     "text": [
      "The autoreload extension is already loaded. To reload it, use:\n",
      "  %reload_ext autoreload\n"
     ]
    }
   ],
   "source": [
    "%load_ext autoreload\n",
    "%autoreload 2"
   ]
  },
  {
   "cell_type": "code",
   "execution_count": 56,
   "metadata": {},
   "outputs": [],
   "source": [
    "\n",
    "import os\n",
    "import json\n",
    "import pathlib"
   ]
  },
  {
   "cell_type": "code",
   "execution_count": 57,
   "metadata": {},
   "outputs": [],
   "source": [
    "# where python source code located\n",
    "import sys\n",
    "code_path = os.path.abspath(\"../\")\n",
    "\n",
    "sys.path.append(code_path)"
   ]
  },
  {
   "cell_type": "code",
   "execution_count": 58,
   "metadata": {},
   "outputs": [],
   "source": [
    "# utility modules or functions\n",
    "\n",
    "from src.WellClass.libs.utils import (\n",
    "    csv_parser,\n",
    "    yaml_parser,\n",
    ")\n",
    "\n",
    "# WellClass\n",
    "from src.WellClass.libs.well_class import Well\n",
    "\n",
    "from src.WellClass.libs.grid_utils import (\n",
    "    WellDataFrame,\n",
    "    GridCoarse,\n",
    "    GridRefine,\n",
    "    GridLGR,\n",
    "    LGRBuilder,\n",
    ")\n",
    "\n",
    "# plots\n",
    "from src.WellClass.libs.plotting import (\n",
    "    plot_grid,\n",
    ")\n"
   ]
  },
  {
   "cell_type": "code",
   "execution_count": 59,
   "metadata": {},
   "outputs": [
    {
     "name": "stdout",
     "output_type": "stream",
     "text": [
      "/scratch/SCS/hzh/SCREEN/notebooks\n"
     ]
    }
   ],
   "source": [
    "!pwd"
   ]
  },
  {
   "cell_type": "markdown",
   "metadata": {},
   "source": [
    "# Set up case scenario"
   ]
  },
  {
   "cell_type": "code",
   "execution_count": 60,
   "metadata": {},
   "outputs": [],
   "source": [
    "# root directory for pflotran \n",
    "pflotran_working_root = '../test_data/examples/cosmo-pflotran'"
   ]
  },
  {
   "cell_type": "code",
   "execution_count": 61,
   "metadata": {},
   "outputs": [],
   "source": [
    "# # Examples\n",
    "cosmo = {\n",
    "        'well_input': r'cosmo.yaml', \n",
    "        # 'well_input': r'cosmo.csv',\n",
    "        'simcase1': r'TEMP-0_NOSIM',    # for dry run, defined in 'model' folder\n",
    "        'simcase2': r'TEMP-0',          # for lgr run, defined in 'model' folder\n",
    "        }"
   ]
  },
  {
   "cell_type": "code",
   "execution_count": 62,
   "metadata": {},
   "outputs": [],
   "source": [
    "############# 0. User options ######################\n",
    "\n",
    "# TODO(hzh): use Ali's grid logic\n",
    "Ali_way = False\n",
    "\n",
    "# the root path for simulation\n",
    "sim_path = pathlib.Path(pflotran_working_root)\n",
    "\n",
    "# configuration filename\n",
    "well_input = pathlib.Path(cosmo['well_input'])\n",
    "\n",
    "# dry run: filename prefix on coarse grid, e.g., TEMP-0_NOSIM\n",
    "sim_case_NOSIM = cosmo['simcase1']\n",
    "\n",
    "# lgr run: filename prefix on lgr grid, e.g., TEMP-0\n",
    "sim_case_LGR = cosmo['simcase2']"
   ]
  },
  {
   "cell_type": "code",
   "execution_count": 63,
   "metadata": {},
   "outputs": [],
   "source": [
    "\n",
    "############# 1. computed parameters ######################\n",
    "\n",
    "# extract suffix from the configuration file name\n",
    "file_extension = well_input.suffix\n",
    "\n",
    "# .yaml or .csv?\n",
    "use_yaml = False\n",
    "if file_extension in ['.yaml', '.yml']:\n",
    "    use_yaml = True\n"
   ]
  },
  {
   "cell_type": "code",
   "execution_count": 64,
   "metadata": {},
   "outputs": [
    {
     "data": {
      "text/plain": [
       "PosixPath('../test_data/examples/cosmo-pflotran/model/TEMP-0_NOSIM')"
      ]
     },
     "execution_count": 64,
     "metadata": {},
     "output_type": "execute_result"
    }
   ],
   "source": [
    "\n",
    "# file prefix for dry run\n",
    "# where eclipse .EGRID and .INIT files will be located\n",
    "simcase1 = sim_path/'model'/sim_case_NOSIM\n",
    "simcase1"
   ]
  },
  {
   "cell_type": "code",
   "execution_count": 65,
   "metadata": {},
   "outputs": [
    {
     "data": {
      "text/plain": [
       "PosixPath('../test_data/examples/cosmo-pflotran/model/TEMP-0')"
      ]
     },
     "execution_count": 65,
     "metadata": {},
     "output_type": "execute_result"
    }
   ],
   "source": [
    "# LGR\n",
    "simcase2 = sim_path/'model'/sim_case_LGR\n",
    "simcase2"
   ]
  },
  {
   "cell_type": "markdown",
   "metadata": {},
   "source": [
    "# Run coarse simulation"
   ]
  },
  {
   "cell_type": "code",
   "execution_count": 66,
   "metadata": {},
   "outputs": [
    {
     "data": {
      "text/plain": [
       "PosixPath('../test_data/examples/cosmo-pflotran/model/TEMP-0_NOSIM.in')"
      ]
     },
     "execution_count": 66,
     "metadata": {},
     "output_type": "execute_result"
    }
   ],
   "source": [
    "# file name (coarse grid) for pflotran run\n",
    "run_config_coarse = simcase1.with_suffix('.in')\n",
    "run_config_coarse"
   ]
  },
  {
   "cell_type": "code",
   "execution_count": 67,
   "metadata": {},
   "outputs": [
    {
     "name": "stdout",
     "output_type": "stream",
     "text": [
      "/scratch/SCS/hzh/SCREEN/test_data/examples/cosmo-pflotran/model /scratch/SCS/hzh/SCREEN/notebooks\n"
     ]
    },
    {
     "name": "stderr",
     "output_type": "stream",
     "text": [
      " Pflotran 1.8 sv4+\n",
      " Pflotran was compiled on: Sep 13 2023 10:24:37            \n",
      " RESERVOIR_DEFAULTS option has been selected\n",
      " Pflotran card:: DIMENS                          \n",
      " Pflotran card:: EQUALS                          \n",
      " Pflotran card:: DZ                              \n",
      " Pflotran card:: EQUALS                          \n",
      " Pflotran card:: COPY                            \n",
      " Pflotran card:: MULTIPLY                        \n",
      " Pflotran card:: MINPV                           \n",
      " Calculating pore volumes\n",
      " Calculating connections\n",
      " Ncell=       24000  Nact=       24000  Nconn=       69200  Nflt=           0  Npo=           0\n",
      " Reading SUBSURFACE cards:\n",
      " Pflotran card:: GRID\n",
      " Pflotran card:: REFERENCE_PRESSURE\n",
      " Pflotran card:: REFERENCE_TEMPERATURE\n",
      " Pflotran card:: TIME\n",
      " Pflotran card:: OUTPUT\n",
      " Pflotran card:: NEWTON_SOLVER\n",
      " WARNING: ITOL_S (Newton solver) has been changed,overwriting the RESERVOIR_DEFAULTS default\n",
      " WARNING: ITOL (Newton solver) has been changed, overwriting the RESERVOIR_DEFAULTS default\n",
      " Pflotran card:: MATERIAL_PROPERTY\n",
      "   Name :: formation\n",
      " \"MATERIAL_PROPERTY,rock density units\" set to default value.\n",
      " \"MATERIAL_PROPERTY,specific heat units\" set to default value.\n",
      " \"MATERIAL_PROPERTY,dry thermal conductivity units\" set to default value.\n",
      " \"MATERIAL_PROPERTY,wet thermal conductivity units\" set to default value.\n",
      " Pflotran card:: CHARACTERISTIC_CURVES\n",
      "   Name :: ch1\n",
      " Pflotran card:: CHARACTERISTIC_CURVES\n",
      "   Name :: ch2\n",
      " Pflotran card:: EOS\n",
      " Pflotran card:: EOS\n",
      " Reading database = ../include/co2_db_new.dat\n",
      " Pflotran card:: FLOW_CONDITION\n",
      " initial_press\n",
      " Pflotran card:: END_SUBSURFACE\n",
      " Extent of Gridded Domain\n",
      "  X: 100.000 - 3900.000\n",
      "  Y: 100.000 - 3900.000\n",
      "  Z: -2479.50 - -54.50\n",
      " Created default Region all.\n",
      " Requested processors = 6\n",
      " Degrees of freedom per cell= 3, number of phases = 2\n",
      " No final time specified in waypoint list. Send your input deck to ogs-dev.\n",
      " WARNING: Waypoint at time:  8.6400E+05 is beyond the end of simulation\n",
      " WARNING: Waypoint at time:  7.8840E+06 is beyond the end of simulation\n",
      " WARNING: Waypoint at time:  1.5768E+07 is beyond the end of simulation\n",
      " WARNING: Waypoint at time:  3.1536E+07 is beyond the end of simulation\n",
      " WARNING: Waypoint at time:  6.3072E+07 is beyond the end of simulation\n",
      " WARNING: Waypoint at time:  9.4608E+07 is beyond the end of simulation\n",
      " WARNING: Waypoint at time:  1.2614E+08 is beyond the end of simulation\n",
      " WARNING: Waypoint at time:  1.5768E+08 is beyond the end of simulation\n",
      " WARNING: Waypoint at time:  1.8922E+08 is beyond the end of simulation\n",
      " WARNING: Waypoint at time:  2.2075E+08 is beyond the end of simulation\n",
      " WARNING: Waypoint at time:  2.5229E+08 is beyond the end of simulation\n",
      " WARNING: Waypoint at time:  2.8382E+08 is beyond the end of simulation\n",
      " WARNING: Waypoint at time:  3.1536E+08 is beyond the end of simulation\n",
      " WARNING: Waypoint at time:  3.7843E+08 is beyond the end of simulation\n",
      " WARNING: Waypoint at time:  4.4150E+08 is beyond the end of simulation\n",
      " WARNING: Waypoint at time:  5.0458E+08 is beyond the end of simulation\n",
      " WARNING: Waypoint at time:  5.6765E+08 is beyond the end of simulation\n",
      " WARNING: Waypoint at time:  6.3072E+08 is beyond the end of simulation\n",
      " WARNING: Waypoint at time:  7.8840E+08 is beyond the end of simulation\n",
      " WARNING: Waypoint at time:  9.4608E+08 is beyond the end of simulation\n",
      " WARNING: Waypoint at time:  1.1038E+09 is beyond the end of simulation\n",
      " WARNING: Waypoint at time:  1.2614E+09 is beyond the end of simulation\n",
      " WARNING: Waypoint at time:  1.4191E+09 is beyond the end of simulation\n",
      " WARNING: Waypoint at time:  1.5768E+09 is beyond the end of simulation\n",
      " WARNING: Waypoint at time:  3.1536E+09 is beyond the end of simulation\n",
      " WARNING: Waypoint at time:  4.7304E+09 is beyond the end of simulation\n",
      " WARNING: Waypoint at time:  6.3072E+09 is beyond the end of simulation\n",
      " WARNING: Waypoint at time:  7.8840E+09 is beyond the end of simulation\n",
      " WARNING: Waypoint at time:  9.4608E+09 is beyond the end of simulation\n",
      " WARNING: Waypoint at time:  1.1038E+10 is beyond the end of simulation\n",
      " WARNING: Waypoint at time:  1.2614E+10 is beyond the end of simulation\n",
      " WARNING: Waypoint at time:  1.4191E+10 is beyond the end of simulation\n",
      " WARNING: Waypoint at time:  1.4980E+10 is beyond the end of simulation\n",
      " WARNING: Waypoint at time:  1.5768E+10 is beyond the end of simulation\n",
      "------ -------- -------- -------- -------- -------- -------- -------- -------- -------- -------- -------- -- -- --\n",
      "Run completed, wall clock time =  1.7041E+00 s,  2.8402E-02 min\n",
      "cat: TEMP-0_NOSIM-mas.dat: No such file or directory\n"
     ]
    },
    {
     "name": "stdout",
     "output_type": "stream",
     "text": [
      "/scratch/SCS/hzh/SCREEN/notebooks\n"
     ]
    }
   ],
   "source": [
    "%%bash -s \"$run_config_coarse\"\n",
    "\n",
    "runpflotran1.8 -i -nm 6 $1"
   ]
  },
  {
   "cell_type": "markdown",
   "metadata": {},
   "source": [
    "# Build LGR"
   ]
  },
  {
   "cell_type": "code",
   "execution_count": 68,
   "metadata": {},
   "outputs": [],
   "source": [
    "############ 2. Load well configuration file ###############\n",
    "\n",
    "# where well configuration file is located\n",
    "well_name = sim_path/well_input\n",
    "\n",
    "if use_yaml:\n",
    "\n",
    "        # # pydantic model\n",
    "        well_model = yaml_parser(well_name)\n",
    "        well_csv = json.loads(well_model.spec.model_dump_json())\n",
    "else:\n",
    "\n",
    "        # load the well information\n",
    "        well_csv = csv_parser(well_name)"
   ]
  },
  {
   "cell_type": "code",
   "execution_count": 69,
   "metadata": {},
   "outputs": [],
   "source": [
    "########### 3. build Well class ######################\n",
    "# build well class\n",
    "my_well = Well( header       = well_csv['well_header'], \n",
    "                drilling     = well_csv['drilling'],\n",
    "                casings      = well_csv['casing_cement'],\n",
    "                geology      = well_csv['geology'],\n",
    "                barriers     = well_csv['barriers'], \n",
    "                barrier_perm = well_csv['barrier_permeability'],\n",
    "                co2_datum    = well_csv['co2_datum'],\n",
    "        )\n",
    "# to well dataframe\n",
    "well_df = WellDataFrame(my_well)\n",
    "\n",
    "# for convenience\n",
    "# extract dataframes\n",
    "annulus_df = well_df.annulus_df\n",
    "drilling_df = well_df.drilling_df\n",
    "casings_df = well_df.casings_df\n",
    "borehole_df = well_df.borehole_df\n",
    "barriers_mod_df = well_df.barriers_mod_df\n"
   ]
  },
  {
   "cell_type": "code",
   "execution_count": 70,
   "metadata": {},
   "outputs": [
    {
     "data": {
      "text/plain": [
       "(20, 20, 60)"
      ]
     },
     "execution_count": 70,
     "metadata": {},
     "output_type": "execute_result"
    }
   ],
   "source": [
    "\n",
    "############### 4. various grids #####################\n",
    "\n",
    "##### 4.1 grid_coarse \n",
    "# Loading the model\n",
    "grid_coarse = GridCoarse(str(simcase1))\n",
    "\n",
    "grid_coarse.NX, grid_coarse.NY, grid_coarse.NZ"
   ]
  },
  {
   "cell_type": "code",
   "execution_count": 71,
   "metadata": {},
   "outputs": [
    {
     "name": "stdout",
     "output_type": "stream",
     "text": [
      "Minimimum grid size is 5.00 cm\n"
     ]
    }
   ],
   "source": [
    "\n",
    "##### 4.2 LGR grid \n",
    "# LGR grid information in x, y, z directions\n",
    "lgr = LGRBuilder(grid_coarse, \n",
    "                annulus_df, \n",
    "                drilling_df, casings_df, borehole_df,\n",
    "                Ali_way)"
   ]
  },
  {
   "cell_type": "code",
   "execution_count": 72,
   "metadata": {},
   "outputs": [
    {
     "name": "stdout",
     "output_type": "stream",
     "text": [
      "nx=22, ny=22, nz=150\n"
     ]
    },
    {
     "data": {
      "text/html": [
       "<div>\n",
       "<style scoped>\n",
       "    .dataframe tbody tr th:only-of-type {\n",
       "        vertical-align: middle;\n",
       "    }\n",
       "\n",
       "    .dataframe tbody tr th {\n",
       "        vertical-align: top;\n",
       "    }\n",
       "\n",
       "    .dataframe thead th {\n",
       "        text-align: right;\n",
       "    }\n",
       "</style>\n",
       "<table border=\"1\" class=\"dataframe\">\n",
       "  <thead>\n",
       "    <tr style=\"text-align: right;\">\n",
       "      <th></th>\n",
       "      <th>i</th>\n",
       "      <th>j</th>\n",
       "      <th>k</th>\n",
       "      <th>DX</th>\n",
       "      <th>DY</th>\n",
       "      <th>DZ</th>\n",
       "      <th>X</th>\n",
       "      <th>Y</th>\n",
       "      <th>Z</th>\n",
       "      <th>Zcorn_top</th>\n",
       "      <th>...</th>\n",
       "      <th>PERMX</th>\n",
       "      <th>PERMY</th>\n",
       "      <th>PERMZ</th>\n",
       "      <th>MULTX</th>\n",
       "      <th>MULTY</th>\n",
       "      <th>MULTZ</th>\n",
       "      <th>MULTX-</th>\n",
       "      <th>MULTY-</th>\n",
       "      <th>MULTZ-</th>\n",
       "      <th>PORO</th>\n",
       "    </tr>\n",
       "  </thead>\n",
       "  <tbody>\n",
       "    <tr>\n",
       "      <th>0</th>\n",
       "      <td>0</td>\n",
       "      <td>0</td>\n",
       "      <td>0</td>\n",
       "      <td>91.731525</td>\n",
       "      <td>91.731525</td>\n",
       "      <td>10.1</td>\n",
       "      <td>45.865763</td>\n",
       "      <td>45.865763</td>\n",
       "      <td>5.050000</td>\n",
       "      <td>0.000000</td>\n",
       "      <td>...</td>\n",
       "      <td>10000.0</td>\n",
       "      <td>10000.0</td>\n",
       "      <td>1000.0</td>\n",
       "      <td>1.0</td>\n",
       "      <td>1.0</td>\n",
       "      <td>1.0</td>\n",
       "      <td>1.0</td>\n",
       "      <td>1.0</td>\n",
       "      <td>1.0</td>\n",
       "      <td>1.0</td>\n",
       "    </tr>\n",
       "    <tr>\n",
       "      <th>1</th>\n",
       "      <td>0</td>\n",
       "      <td>1</td>\n",
       "      <td>0</td>\n",
       "      <td>91.731525</td>\n",
       "      <td>7.289250</td>\n",
       "      <td>10.1</td>\n",
       "      <td>45.865763</td>\n",
       "      <td>95.376150</td>\n",
       "      <td>5.050000</td>\n",
       "      <td>0.000000</td>\n",
       "      <td>...</td>\n",
       "      <td>10000.0</td>\n",
       "      <td>10000.0</td>\n",
       "      <td>1000.0</td>\n",
       "      <td>1.0</td>\n",
       "      <td>1.0</td>\n",
       "      <td>1.0</td>\n",
       "      <td>1.0</td>\n",
       "      <td>1.0</td>\n",
       "      <td>1.0</td>\n",
       "      <td>1.0</td>\n",
       "    </tr>\n",
       "    <tr>\n",
       "      <th>2</th>\n",
       "      <td>0</td>\n",
       "      <td>2</td>\n",
       "      <td>0</td>\n",
       "      <td>91.731525</td>\n",
       "      <td>0.579225</td>\n",
       "      <td>10.1</td>\n",
       "      <td>45.865763</td>\n",
       "      <td>99.310388</td>\n",
       "      <td>5.050000</td>\n",
       "      <td>0.000000</td>\n",
       "      <td>...</td>\n",
       "      <td>10000.0</td>\n",
       "      <td>10000.0</td>\n",
       "      <td>1000.0</td>\n",
       "      <td>1.0</td>\n",
       "      <td>1.0</td>\n",
       "      <td>1.0</td>\n",
       "      <td>1.0</td>\n",
       "      <td>1.0</td>\n",
       "      <td>1.0</td>\n",
       "      <td>1.0</td>\n",
       "    </tr>\n",
       "    <tr>\n",
       "      <th>3</th>\n",
       "      <td>0</td>\n",
       "      <td>3</td>\n",
       "      <td>0</td>\n",
       "      <td>91.731525</td>\n",
       "      <td>0.050000</td>\n",
       "      <td>10.1</td>\n",
       "      <td>45.865763</td>\n",
       "      <td>99.625000</td>\n",
       "      <td>5.050000</td>\n",
       "      <td>0.000000</td>\n",
       "      <td>...</td>\n",
       "      <td>10000.0</td>\n",
       "      <td>10000.0</td>\n",
       "      <td>1000.0</td>\n",
       "      <td>1.0</td>\n",
       "      <td>1.0</td>\n",
       "      <td>1.0</td>\n",
       "      <td>1.0</td>\n",
       "      <td>1.0</td>\n",
       "      <td>1.0</td>\n",
       "      <td>1.0</td>\n",
       "    </tr>\n",
       "    <tr>\n",
       "      <th>4</th>\n",
       "      <td>0</td>\n",
       "      <td>4</td>\n",
       "      <td>0</td>\n",
       "      <td>91.731525</td>\n",
       "      <td>0.050000</td>\n",
       "      <td>10.1</td>\n",
       "      <td>45.865763</td>\n",
       "      <td>99.675000</td>\n",
       "      <td>5.050000</td>\n",
       "      <td>0.000000</td>\n",
       "      <td>...</td>\n",
       "      <td>10000.0</td>\n",
       "      <td>10000.0</td>\n",
       "      <td>1000.0</td>\n",
       "      <td>1.0</td>\n",
       "      <td>1.0</td>\n",
       "      <td>1.0</td>\n",
       "      <td>1.0</td>\n",
       "      <td>1.0</td>\n",
       "      <td>1.0</td>\n",
       "      <td>1.0</td>\n",
       "    </tr>\n",
       "    <tr>\n",
       "      <th>...</th>\n",
       "      <td>...</td>\n",
       "      <td>...</td>\n",
       "      <td>...</td>\n",
       "      <td>...</td>\n",
       "      <td>...</td>\n",
       "      <td>...</td>\n",
       "      <td>...</td>\n",
       "      <td>...</td>\n",
       "      <td>...</td>\n",
       "      <td>...</td>\n",
       "      <td>...</td>\n",
       "      <td>...</td>\n",
       "      <td>...</td>\n",
       "      <td>...</td>\n",
       "      <td>...</td>\n",
       "      <td>...</td>\n",
       "      <td>...</td>\n",
       "      <td>...</td>\n",
       "      <td>...</td>\n",
       "      <td>...</td>\n",
       "      <td>...</td>\n",
       "    </tr>\n",
       "    <tr>\n",
       "      <th>72595</th>\n",
       "      <td>21</td>\n",
       "      <td>17</td>\n",
       "      <td>149</td>\n",
       "      <td>91.731525</td>\n",
       "      <td>0.050000</td>\n",
       "      <td>5.0</td>\n",
       "      <td>154.134237</td>\n",
       "      <td>100.325000</td>\n",
       "      <td>2475.501953</td>\n",
       "      <td>2473.001953</td>\n",
       "      <td>...</td>\n",
       "      <td>1000.0</td>\n",
       "      <td>1000.0</td>\n",
       "      <td>100.0</td>\n",
       "      <td>1.0</td>\n",
       "      <td>1.0</td>\n",
       "      <td>1.0</td>\n",
       "      <td>1.0</td>\n",
       "      <td>1.0</td>\n",
       "      <td>1.0</td>\n",
       "      <td>0.2</td>\n",
       "    </tr>\n",
       "    <tr>\n",
       "      <th>72596</th>\n",
       "      <td>21</td>\n",
       "      <td>18</td>\n",
       "      <td>149</td>\n",
       "      <td>91.731525</td>\n",
       "      <td>0.050000</td>\n",
       "      <td>5.0</td>\n",
       "      <td>154.134237</td>\n",
       "      <td>100.375000</td>\n",
       "      <td>2475.501953</td>\n",
       "      <td>2473.001953</td>\n",
       "      <td>...</td>\n",
       "      <td>1000.0</td>\n",
       "      <td>1000.0</td>\n",
       "      <td>100.0</td>\n",
       "      <td>1.0</td>\n",
       "      <td>1.0</td>\n",
       "      <td>1.0</td>\n",
       "      <td>1.0</td>\n",
       "      <td>1.0</td>\n",
       "      <td>1.0</td>\n",
       "      <td>0.2</td>\n",
       "    </tr>\n",
       "    <tr>\n",
       "      <th>72597</th>\n",
       "      <td>21</td>\n",
       "      <td>19</td>\n",
       "      <td>149</td>\n",
       "      <td>91.731525</td>\n",
       "      <td>0.579225</td>\n",
       "      <td>5.0</td>\n",
       "      <td>154.134237</td>\n",
       "      <td>100.689612</td>\n",
       "      <td>2475.501953</td>\n",
       "      <td>2473.001953</td>\n",
       "      <td>...</td>\n",
       "      <td>1000.0</td>\n",
       "      <td>1000.0</td>\n",
       "      <td>100.0</td>\n",
       "      <td>1.0</td>\n",
       "      <td>1.0</td>\n",
       "      <td>1.0</td>\n",
       "      <td>1.0</td>\n",
       "      <td>1.0</td>\n",
       "      <td>1.0</td>\n",
       "      <td>0.2</td>\n",
       "    </tr>\n",
       "    <tr>\n",
       "      <th>72598</th>\n",
       "      <td>21</td>\n",
       "      <td>20</td>\n",
       "      <td>149</td>\n",
       "      <td>91.731525</td>\n",
       "      <td>7.289250</td>\n",
       "      <td>5.0</td>\n",
       "      <td>154.134237</td>\n",
       "      <td>104.623850</td>\n",
       "      <td>2475.501953</td>\n",
       "      <td>2473.001953</td>\n",
       "      <td>...</td>\n",
       "      <td>1000.0</td>\n",
       "      <td>1000.0</td>\n",
       "      <td>100.0</td>\n",
       "      <td>1.0</td>\n",
       "      <td>1.0</td>\n",
       "      <td>1.0</td>\n",
       "      <td>1.0</td>\n",
       "      <td>1.0</td>\n",
       "      <td>1.0</td>\n",
       "      <td>0.2</td>\n",
       "    </tr>\n",
       "    <tr>\n",
       "      <th>72599</th>\n",
       "      <td>21</td>\n",
       "      <td>21</td>\n",
       "      <td>149</td>\n",
       "      <td>91.731525</td>\n",
       "      <td>91.731525</td>\n",
       "      <td>5.0</td>\n",
       "      <td>154.134237</td>\n",
       "      <td>154.134237</td>\n",
       "      <td>2475.501953</td>\n",
       "      <td>2473.001953</td>\n",
       "      <td>...</td>\n",
       "      <td>1000.0</td>\n",
       "      <td>1000.0</td>\n",
       "      <td>100.0</td>\n",
       "      <td>1.0</td>\n",
       "      <td>1.0</td>\n",
       "      <td>1.0</td>\n",
       "      <td>1.0</td>\n",
       "      <td>1.0</td>\n",
       "      <td>1.0</td>\n",
       "      <td>0.2</td>\n",
       "    </tr>\n",
       "  </tbody>\n",
       "</table>\n",
       "<p>72600 rows × 22 columns</p>\n",
       "</div>"
      ],
      "text/plain": [
       "        i   j    k         DX         DY    DZ           X           Y  \\\n",
       "0       0   0    0  91.731525  91.731525  10.1   45.865763   45.865763   \n",
       "1       0   1    0  91.731525   7.289250  10.1   45.865763   95.376150   \n",
       "2       0   2    0  91.731525   0.579225  10.1   45.865763   99.310388   \n",
       "3       0   3    0  91.731525   0.050000  10.1   45.865763   99.625000   \n",
       "4       0   4    0  91.731525   0.050000  10.1   45.865763   99.675000   \n",
       "...    ..  ..  ...        ...        ...   ...         ...         ...   \n",
       "72595  21  17  149  91.731525   0.050000   5.0  154.134237  100.325000   \n",
       "72596  21  18  149  91.731525   0.050000   5.0  154.134237  100.375000   \n",
       "72597  21  19  149  91.731525   0.579225   5.0  154.134237  100.689612   \n",
       "72598  21  20  149  91.731525   7.289250   5.0  154.134237  104.623850   \n",
       "72599  21  21  149  91.731525  91.731525   5.0  154.134237  154.134237   \n",
       "\n",
       "                 Z    Zcorn_top  ...    PERMX    PERMY   PERMZ  MULTX  MULTY  \\\n",
       "0         5.050000     0.000000  ...  10000.0  10000.0  1000.0    1.0    1.0   \n",
       "1         5.050000     0.000000  ...  10000.0  10000.0  1000.0    1.0    1.0   \n",
       "2         5.050000     0.000000  ...  10000.0  10000.0  1000.0    1.0    1.0   \n",
       "3         5.050000     0.000000  ...  10000.0  10000.0  1000.0    1.0    1.0   \n",
       "4         5.050000     0.000000  ...  10000.0  10000.0  1000.0    1.0    1.0   \n",
       "...            ...          ...  ...      ...      ...     ...    ...    ...   \n",
       "72595  2475.501953  2473.001953  ...   1000.0   1000.0   100.0    1.0    1.0   \n",
       "72596  2475.501953  2473.001953  ...   1000.0   1000.0   100.0    1.0    1.0   \n",
       "72597  2475.501953  2473.001953  ...   1000.0   1000.0   100.0    1.0    1.0   \n",
       "72598  2475.501953  2473.001953  ...   1000.0   1000.0   100.0    1.0    1.0   \n",
       "72599  2475.501953  2473.001953  ...   1000.0   1000.0   100.0    1.0    1.0   \n",
       "\n",
       "       MULTZ  MULTX-  MULTY-  MULTZ-  PORO  \n",
       "0        1.0     1.0     1.0     1.0   1.0  \n",
       "1        1.0     1.0     1.0     1.0   1.0  \n",
       "2        1.0     1.0     1.0     1.0   1.0  \n",
       "3        1.0     1.0     1.0     1.0   1.0  \n",
       "4        1.0     1.0     1.0     1.0   1.0  \n",
       "...      ...     ...     ...     ...   ...  \n",
       "72595    1.0     1.0     1.0     1.0   0.2  \n",
       "72596    1.0     1.0     1.0     1.0   0.2  \n",
       "72597    1.0     1.0     1.0     1.0   0.2  \n",
       "72598    1.0     1.0     1.0     1.0   0.2  \n",
       "72599    1.0     1.0     1.0     1.0   0.2  \n",
       "\n",
       "[72600 rows x 22 columns]"
      ]
     },
     "execution_count": 72,
     "metadata": {},
     "output_type": "execute_result"
    }
   ],
   "source": [
    "##### 4.3 grid refine \n",
    "\n",
    "# Set up dataframe for LGR mesh\n",
    "grid_refine = GridRefine(grid_coarse,\n",
    "                        lgr.LGR_sizes_x, lgr.LGR_sizes_y, \n",
    "                        lgr.LGR_sizes_z, \n",
    "                        )\n",
    "\n",
    "grid_refine.mesh_df\n"
   ]
  },
  {
   "cell_type": "code",
   "execution_count": 73,
   "metadata": {},
   "outputs": [],
   "source": [
    "############### 5. build LGR #####################\n",
    "\n",
    "##### 5.1 compute bounding box \n",
    "# Bounding box for well elements\n",
    "well_df.compute_bbox(grid_refine.mesh_df, grid_refine.nx)\n",
    "\n",
    "##### 5.2 set up material type \n",
    "# set up material type\n",
    "grid_refine.set_material_type(drilling_df,\n",
    "                              casings_df, \n",
    "                              barriers_mod_df)\n",
    "\n",
    "##### 5.3 set up permeability \n",
    "# set up permeability\n",
    "grid_refine.set_permeability(drilling_df, casings_df, barriers_mod_df)"
   ]
  },
  {
   "cell_type": "code",
   "execution_count": 74,
   "metadata": {},
   "outputs": [
    {
     "name": "stdout",
     "output_type": "stream",
     "text": [
      "DEBUG ==============> handling open hole section\n",
      "DEBUG ==============> handling open hole section\n",
      "...Prints isolating OVB from reservoir keywords in TEMP_LGR.grdecl file\n",
      "...Prints CARFIN Keywords in TEMP_LGR.grdecl file\n",
      "...Prints Casings, cement bonds and barrie(s) in TEMP_LGR.grdecl file\n",
      "...Prints isolating OVB from reservoir in the LGR in TEMP_LGR.grdecl file\n",
      "Output LGR CARFIN to:  /scratch/SCS/hzh/SCREEN/test_data/examples/cosmo-pflotran/include/TEMP_LGR.grdecl\n"
     ]
    }
   ],
   "source": [
    "############### 6. output LGR #####################\n",
    "\n",
    "LGR_NAME = 'TEMP_LGR'\n",
    "output_dir = sim_path/'include'\n",
    "\n",
    "\n",
    "# Write LGR file\n",
    "lgr.build_grdecl(output_dir, LGR_NAME,\n",
    "                drilling_df,\n",
    "                casings_df,\n",
    "                barriers_mod_df)"
   ]
  },
  {
   "cell_type": "markdown",
   "metadata": {},
   "source": [
    "# Run LGR simulation"
   ]
  },
  {
   "cell_type": "code",
   "execution_count": 75,
   "metadata": {},
   "outputs": [
    {
     "data": {
      "text/plain": [
       "PosixPath('../test_data/examples/cosmo-pflotran/model/TEMP-0.in')"
      ]
     },
     "execution_count": 75,
     "metadata": {},
     "output_type": "execute_result"
    }
   ],
   "source": [
    "# file name (LGR grid) for pflotran run\n",
    "run_config_lgr = simcase2.with_suffix('.in')\n",
    "run_config_lgr"
   ]
  },
  {
   "cell_type": "code",
   "execution_count": 76,
   "metadata": {},
   "outputs": [
    {
     "name": "stdout",
     "output_type": "stream",
     "text": [
      "/scratch/SCS/hzh/SCREEN/test_data/examples/cosmo-pflotran/model /scratch/SCS/hzh/SCREEN/notebooks\n"
     ]
    },
    {
     "name": "stderr",
     "output_type": "stream",
     "text": [
      " Pflotran 1.8 sv4+\n",
      " Pflotran was compiled on: Sep 13 2023 10:24:37            \n",
      " RESERVOIR_DEFAULTS option has been selected\n",
      " Pflotran card:: DIMENS                          \n",
      " Pflotran card:: EQUALS                          \n",
      " Pflotran card:: CARFIN                          \n",
      " Pflotran card:: NXFIN                           \n",
      " Pflotran card:: NYFIN                           \n",
      " Pflotran card:: NZFIN                           \n",
      " Pflotran card:: HXFIN                           \n",
      " Pflotran card:: HYFIN                           \n",
      " Pflotran card:: EQUALS                          \n",
      " Pflotran card:: EQUALS                          \n",
      " Pflotran card:: EQUALS                          \n",
      " Pflotran card:: EQUALS                          \n",
      " Pflotran card:: EQUALS                          \n",
      " Pflotran card:: EQUALS                          \n",
      " Pflotran card:: EQUALS                          \n",
      " Pflotran card:: EQUALS                          \n",
      " Pflotran card:: EQUALS                          \n",
      " Pflotran card:: EQUALS                          \n",
      " Pflotran card:: EQUALS                          \n",
      " Pflotran card:: EQUALS                          \n",
      " Pflotran card:: EQUALS                          \n",
      " Pflotran card:: ENDFIN                          \n",
      " Pflotran card:: EQUALS                          \n",
      " Pflotran card:: DZ                              \n",
      " Pflotran card:: EQUALS                          \n",
      " Pflotran card:: COPY                            \n",
      " Pflotran card:: MULTIPLY                        \n",
      " Pflotran card:: MINPV                           \n",
      " Calculating pore volumes\n",
      " Calculating connections\n",
      " Calculating local grid connections\n",
      " Ncell=       96600  Nact=       96540  Nconn=      285103  Nflt=           0  Npo=           0\n",
      " Reading SUBSURFACE cards:\n",
      " Pflotran card:: GRID\n",
      " Pflotran card:: REFERENCE_PRESSURE\n",
      " Pflotran card:: REFERENCE_TEMPERATURE\n",
      " Pflotran card:: TIME\n",
      " Pflotran card:: OUTPUT\n",
      " Pflotran card:: NEWTON_SOLVER\n",
      " WARNING: ITOL_S (Newton solver) has been changed,overwriting the RESERVOIR_DEFAULTS default\n",
      " WARNING: ITOL (Newton solver) has been changed, overwriting the RESERVOIR_DEFAULTS default\n",
      " Pflotran card:: MATERIAL_PROPERTY\n",
      "   Name :: formation\n",
      " \"MATERIAL_PROPERTY,rock density units\" set to default value.\n",
      " \"MATERIAL_PROPERTY,specific heat units\" set to default value.\n",
      " \"MATERIAL_PROPERTY,dry thermal conductivity units\" set to default value.\n",
      " \"MATERIAL_PROPERTY,wet thermal conductivity units\" set to default value.\n",
      " Pflotran card:: CHARACTERISTIC_CURVES\n",
      "   Name :: ch1\n",
      " Pflotran card:: CHARACTERISTIC_CURVES\n",
      "   Name :: ch2\n",
      " Pflotran card:: EOS\n",
      " Pflotran card:: EOS\n",
      " Reading database = ../include/co2_db_new.dat\n",
      " Pflotran card:: FLOW_CONDITION\n",
      " initial_press\n",
      " Pflotran card:: END_SUBSURFACE\n",
      " Extent of Gridded Domain\n",
      "  X: 100.000 - 3900.000\n",
      "  Y: 100.000 - 3900.000\n",
      "  Z: -2479.50 - -9.05\n",
      " Created default Region all.\n",
      " Requested processors = 6\n",
      " Degrees of freedom per cell= 3, number of phases = 2\n",
      " WARNING: Waypoint at time:  8.6400E+05 is beyond the end of simulation\n",
      " WARNING: Waypoint at time:  7.8840E+06 is beyond the end of simulation\n",
      " WARNING: Waypoint at time:  1.5768E+07 is beyond the end of simulation\n",
      " WARNING: Waypoint at time:  3.1536E+07 is beyond the end of simulation\n",
      " WARNING: Waypoint at time:  6.3072E+07 is beyond the end of simulation\n",
      " WARNING: Waypoint at time:  9.4608E+07 is beyond the end of simulation\n",
      " WARNING: Waypoint at time:  1.2614E+08 is beyond the end of simulation\n",
      " WARNING: Waypoint at time:  1.5768E+08 is beyond the end of simulation\n",
      " WARNING: Waypoint at time:  1.8922E+08 is beyond the end of simulation\n",
      " WARNING: Waypoint at time:  2.2075E+08 is beyond the end of simulation\n",
      " WARNING: Waypoint at time:  2.5229E+08 is beyond the end of simulation\n",
      " WARNING: Waypoint at time:  2.8382E+08 is beyond the end of simulation\n",
      " WARNING: Waypoint at time:  3.1536E+08 is beyond the end of simulation\n",
      " WARNING: Waypoint at time:  3.7843E+08 is beyond the end of simulation\n",
      " WARNING: Waypoint at time:  4.4150E+08 is beyond the end of simulation\n",
      " WARNING: Waypoint at time:  5.0458E+08 is beyond the end of simulation\n",
      " WARNING: Waypoint at time:  5.6765E+08 is beyond the end of simulation\n",
      " WARNING: Waypoint at time:  6.3072E+08 is beyond the end of simulation\n",
      " WARNING: Waypoint at time:  7.8840E+08 is beyond the end of simulation\n",
      " WARNING: Waypoint at time:  9.4608E+08 is beyond the end of simulation\n",
      " WARNING: Waypoint at time:  1.1038E+09 is beyond the end of simulation\n",
      " WARNING: Waypoint at time:  1.2614E+09 is beyond the end of simulation\n",
      " WARNING: Waypoint at time:  1.4191E+09 is beyond the end of simulation\n",
      " WARNING: Waypoint at time:  1.5768E+09 is beyond the end of simulation\n",
      " WARNING: Waypoint at time:  3.1536E+09 is beyond the end of simulation\n",
      " WARNING: Waypoint at time:  4.7304E+09 is beyond the end of simulation\n",
      " WARNING: Waypoint at time:  6.3072E+09 is beyond the end of simulation\n",
      " WARNING: Waypoint at time:  7.8840E+09 is beyond the end of simulation\n",
      " WARNING: Waypoint at time:  9.4608E+09 is beyond the end of simulation\n",
      " WARNING: Waypoint at time:  1.1038E+10 is beyond the end of simulation\n",
      " WARNING: Waypoint at time:  1.2614E+10 is beyond the end of simulation\n",
      " WARNING: Waypoint at time:  1.4191E+10 is beyond the end of simulation\n",
      " WARNING: Waypoint at time:  1.4980E+10 is beyond the end of simulation\n",
      " WARNING: Waypoint at time:  1.5768E+10 is beyond the end of simulation\n",
      "Step   time     tstep    fgpt     fgpr     fwpt     fwpr     fgit     fgir     fwir     fgwr     fpav     NL LI Ch\n",
      "       days     days     msm3     ksm3/d   ksm3     sm3/d    msm3     ksm3/d   sm3/d    ksm3/sm3 Bar\n",
      "------ -------- -------- -------- -------- -------- -------- -------- -------- -------- -------- -------- -- -- --\n",
      "     1      1.0    1.000      0.0      0.0      0.0      0.0      0.0      0.0      0.0      0.0  221.190  1  5  0\n",
      "------ -------- -------- -------- -------- -------- -------- -------- -------- -------- -------- -------- -- -- --\n",
      "Run completed, wall clock time =  5.3998E+00 s,  8.9997E-02 min\n"
     ]
    },
    {
     "name": "stdout",
     "output_type": "stream",
     "text": [
      "/scratch/SCS/hzh/SCREEN/notebooks\n"
     ]
    }
   ],
   "source": [
    "%%bash -s \"$run_config_lgr\"\n",
    "\n",
    "runpflotran1.8 -i -nm 6 $1"
   ]
  },
  {
   "cell_type": "markdown",
   "metadata": {},
   "source": [
    "### Load files from pflotran simulation"
   ]
  },
  {
   "cell_type": "code",
   "execution_count": 77,
   "metadata": {},
   "outputs": [],
   "source": [
    "# load LGR grid from simulation file\n",
    "grid_lgr = GridLGR(str(simcase2))"
   ]
  },
  {
   "cell_type": "code",
   "execution_count": 78,
   "metadata": {},
   "outputs": [],
   "source": [
    "# lgr mesh from simulation file\n",
    "lgr_index = grid_lgr.lgr_index"
   ]
  },
  {
   "cell_type": "markdown",
   "metadata": {},
   "source": [
    "# Visualization"
   ]
  },
  {
   "cell_type": "code",
   "execution_count": 79,
   "metadata": {},
   "outputs": [
    {
     "data": {
      "text/plain": [
       "'/scratch/SCS/hzh/SCREEN/src/WellClass/libs/plotting/plot_grids.py'"
      ]
     },
     "execution_count": 79,
     "metadata": {},
     "output_type": "execute_result"
    }
   ],
   "source": [
    "import inspect\n",
    "inspect.getfile(plot_grid)"
   ]
  },
  {
   "cell_type": "code",
   "execution_count": 80,
   "metadata": {},
   "outputs": [
    {
     "data": {
      "image/png": "[encoded data removed]",
      "text/plain": [
       "<Figure size 640x480 with 2 Axes>"
      ]
     },
     "metadata": {},
     "output_type": "display_data"
    }
   ],
   "source": [
    "# coarse grid\n",
    "plot_grid(my_well, grid_coarse, on_coarse=True)\n"
   ]
  },
  {
   "cell_type": "code",
   "execution_count": 81,
   "metadata": {},
   "outputs": [
    {
     "data": {
      "image/png": "[encoded data removed]",
      "text/plain": [
       "<Figure size 640x480 with 2 Axes>"
      ]
     },
     "metadata": {},
     "output_type": "display_data"
    }
   ],
   "source": [
    "# LGR grid from dataframe\n",
    "plot_grid(my_well, grid_refine, on_coarse=False)"
   ]
  },
  {
   "cell_type": "code",
   "execution_count": 82,
   "metadata": {},
   "outputs": [
    {
     "data": {
      "image/png": "[encoded data removed]",
      "text/plain": [
       "<Figure size 640x480 with 2 Axes>"
      ]
     },
     "metadata": {},
     "output_type": "display_data"
    }
   ],
   "source": [
    "# LGR grid from pflotran output\n",
    "plot_grid(my_well, grid_lgr, on_coarse=False)"
   ]
  },
  {
   "cell_type": "markdown",
   "metadata": {},
   "source": [
    "# Other Qcs"
   ]
  },
  {
   "cell_type": "code",
   "execution_count": 83,
   "metadata": {},
   "outputs": [
    {
     "data": {
      "text/html": [
       "<div>\n",
       "<style scoped>\n",
       "    .dataframe tbody tr th:only-of-type {\n",
       "        vertical-align: middle;\n",
       "    }\n",
       "\n",
       "    .dataframe tbody tr th {\n",
       "        vertical-align: top;\n",
       "    }\n",
       "\n",
       "    .dataframe thead th {\n",
       "        text-align: right;\n",
       "    }\n",
       "</style>\n",
       "<table border=\"1\" class=\"dataframe\">\n",
       "  <thead>\n",
       "    <tr style=\"text-align: right;\">\n",
       "      <th></th>\n",
       "      <th>i</th>\n",
       "      <th>j</th>\n",
       "      <th>k</th>\n",
       "      <th>DX</th>\n",
       "      <th>DY</th>\n",
       "      <th>DZ</th>\n",
       "      <th>X</th>\n",
       "      <th>Y</th>\n",
       "      <th>Z</th>\n",
       "      <th>Zcorn_top</th>\n",
       "      <th>...</th>\n",
       "      <th>PERMY</th>\n",
       "      <th>PERMZ</th>\n",
       "      <th>MULTX</th>\n",
       "      <th>MULTY</th>\n",
       "      <th>MULTZ</th>\n",
       "      <th>MULTX-</th>\n",
       "      <th>MULTY-</th>\n",
       "      <th>MULTZ-</th>\n",
       "      <th>PORO</th>\n",
       "      <th>material</th>\n",
       "    </tr>\n",
       "  </thead>\n",
       "  <tbody>\n",
       "    <tr>\n",
       "      <th>0</th>\n",
       "      <td>0</td>\n",
       "      <td>0</td>\n",
       "      <td>0</td>\n",
       "      <td>91.731525</td>\n",
       "      <td>91.731525</td>\n",
       "      <td>10.1</td>\n",
       "      <td>45.865763</td>\n",
       "      <td>45.865763</td>\n",
       "      <td>5.050000</td>\n",
       "      <td>0.000000</td>\n",
       "      <td>...</td>\n",
       "      <td>10000.0</td>\n",
       "      <td>1000.0</td>\n",
       "      <td>1.0</td>\n",
       "      <td>1.0</td>\n",
       "      <td>1.0</td>\n",
       "      <td>1.0</td>\n",
       "      <td>1.0</td>\n",
       "      <td>1.0</td>\n",
       "      <td>1.0</td>\n",
       "      <td>overburden</td>\n",
       "    </tr>\n",
       "    <tr>\n",
       "      <th>22</th>\n",
       "      <td>1</td>\n",
       "      <td>0</td>\n",
       "      <td>0</td>\n",
       "      <td>7.289250</td>\n",
       "      <td>91.731525</td>\n",
       "      <td>10.1</td>\n",
       "      <td>95.376150</td>\n",
       "      <td>45.865763</td>\n",
       "      <td>5.050000</td>\n",
       "      <td>0.000000</td>\n",
       "      <td>...</td>\n",
       "      <td>10000.0</td>\n",
       "      <td>1000.0</td>\n",
       "      <td>1.0</td>\n",
       "      <td>1.0</td>\n",
       "      <td>1.0</td>\n",
       "      <td>1.0</td>\n",
       "      <td>1.0</td>\n",
       "      <td>1.0</td>\n",
       "      <td>1.0</td>\n",
       "      <td>overburden</td>\n",
       "    </tr>\n",
       "    <tr>\n",
       "      <th>44</th>\n",
       "      <td>2</td>\n",
       "      <td>0</td>\n",
       "      <td>0</td>\n",
       "      <td>0.579225</td>\n",
       "      <td>91.731525</td>\n",
       "      <td>10.1</td>\n",
       "      <td>99.310388</td>\n",
       "      <td>45.865763</td>\n",
       "      <td>5.050000</td>\n",
       "      <td>0.000000</td>\n",
       "      <td>...</td>\n",
       "      <td>10000.0</td>\n",
       "      <td>1000.0</td>\n",
       "      <td>1.0</td>\n",
       "      <td>1.0</td>\n",
       "      <td>1.0</td>\n",
       "      <td>1.0</td>\n",
       "      <td>1.0</td>\n",
       "      <td>1.0</td>\n",
       "      <td>1.0</td>\n",
       "      <td>overburden</td>\n",
       "    </tr>\n",
       "    <tr>\n",
       "      <th>66</th>\n",
       "      <td>3</td>\n",
       "      <td>0</td>\n",
       "      <td>0</td>\n",
       "      <td>0.050000</td>\n",
       "      <td>91.731525</td>\n",
       "      <td>10.1</td>\n",
       "      <td>99.625000</td>\n",
       "      <td>45.865763</td>\n",
       "      <td>5.050000</td>\n",
       "      <td>0.000000</td>\n",
       "      <td>...</td>\n",
       "      <td>10000.0</td>\n",
       "      <td>1000.0</td>\n",
       "      <td>1.0</td>\n",
       "      <td>1.0</td>\n",
       "      <td>1.0</td>\n",
       "      <td>1.0</td>\n",
       "      <td>1.0</td>\n",
       "      <td>1.0</td>\n",
       "      <td>1.0</td>\n",
       "      <td>overburden</td>\n",
       "    </tr>\n",
       "    <tr>\n",
       "      <th>88</th>\n",
       "      <td>4</td>\n",
       "      <td>0</td>\n",
       "      <td>0</td>\n",
       "      <td>0.050000</td>\n",
       "      <td>91.731525</td>\n",
       "      <td>10.1</td>\n",
       "      <td>99.675000</td>\n",
       "      <td>45.865763</td>\n",
       "      <td>5.050000</td>\n",
       "      <td>0.000000</td>\n",
       "      <td>...</td>\n",
       "      <td>10000.0</td>\n",
       "      <td>1000.0</td>\n",
       "      <td>1.0</td>\n",
       "      <td>1.0</td>\n",
       "      <td>1.0</td>\n",
       "      <td>1.0</td>\n",
       "      <td>1.0</td>\n",
       "      <td>1.0</td>\n",
       "      <td>1.0</td>\n",
       "      <td>overburden</td>\n",
       "    </tr>\n",
       "    <tr>\n",
       "      <th>...</th>\n",
       "      <td>...</td>\n",
       "      <td>...</td>\n",
       "      <td>...</td>\n",
       "      <td>...</td>\n",
       "      <td>...</td>\n",
       "      <td>...</td>\n",
       "      <td>...</td>\n",
       "      <td>...</td>\n",
       "      <td>...</td>\n",
       "      <td>...</td>\n",
       "      <td>...</td>\n",
       "      <td>...</td>\n",
       "      <td>...</td>\n",
       "      <td>...</td>\n",
       "      <td>...</td>\n",
       "      <td>...</td>\n",
       "      <td>...</td>\n",
       "      <td>...</td>\n",
       "      <td>...</td>\n",
       "      <td>...</td>\n",
       "      <td>...</td>\n",
       "    </tr>\n",
       "    <tr>\n",
       "      <th>72511</th>\n",
       "      <td>17</td>\n",
       "      <td>21</td>\n",
       "      <td>149</td>\n",
       "      <td>0.050000</td>\n",
       "      <td>91.731525</td>\n",
       "      <td>5.0</td>\n",
       "      <td>100.325000</td>\n",
       "      <td>154.134237</td>\n",
       "      <td>2475.501953</td>\n",
       "      <td>2473.001953</td>\n",
       "      <td>...</td>\n",
       "      <td>1000.0</td>\n",
       "      <td>100.0</td>\n",
       "      <td>1.0</td>\n",
       "      <td>1.0</td>\n",
       "      <td>1.0</td>\n",
       "      <td>1.0</td>\n",
       "      <td>1.0</td>\n",
       "      <td>1.0</td>\n",
       "      <td>0.2</td>\n",
       "      <td>overburden</td>\n",
       "    </tr>\n",
       "    <tr>\n",
       "      <th>72533</th>\n",
       "      <td>18</td>\n",
       "      <td>21</td>\n",
       "      <td>149</td>\n",
       "      <td>0.050000</td>\n",
       "      <td>91.731525</td>\n",
       "      <td>5.0</td>\n",
       "      <td>100.375000</td>\n",
       "      <td>154.134237</td>\n",
       "      <td>2475.501953</td>\n",
       "      <td>2473.001953</td>\n",
       "      <td>...</td>\n",
       "      <td>1000.0</td>\n",
       "      <td>100.0</td>\n",
       "      <td>1.0</td>\n",
       "      <td>1.0</td>\n",
       "      <td>1.0</td>\n",
       "      <td>1.0</td>\n",
       "      <td>1.0</td>\n",
       "      <td>1.0</td>\n",
       "      <td>0.2</td>\n",
       "      <td>overburden</td>\n",
       "    </tr>\n",
       "    <tr>\n",
       "      <th>72555</th>\n",
       "      <td>19</td>\n",
       "      <td>21</td>\n",
       "      <td>149</td>\n",
       "      <td>0.579225</td>\n",
       "      <td>91.731525</td>\n",
       "      <td>5.0</td>\n",
       "      <td>100.689612</td>\n",
       "      <td>154.134237</td>\n",
       "      <td>2475.501953</td>\n",
       "      <td>2473.001953</td>\n",
       "      <td>...</td>\n",
       "      <td>1000.0</td>\n",
       "      <td>100.0</td>\n",
       "      <td>1.0</td>\n",
       "      <td>1.0</td>\n",
       "      <td>1.0</td>\n",
       "      <td>1.0</td>\n",
       "      <td>1.0</td>\n",
       "      <td>1.0</td>\n",
       "      <td>0.2</td>\n",
       "      <td>overburden</td>\n",
       "    </tr>\n",
       "    <tr>\n",
       "      <th>72577</th>\n",
       "      <td>20</td>\n",
       "      <td>21</td>\n",
       "      <td>149</td>\n",
       "      <td>7.289250</td>\n",
       "      <td>91.731525</td>\n",
       "      <td>5.0</td>\n",
       "      <td>104.623850</td>\n",
       "      <td>154.134237</td>\n",
       "      <td>2475.501953</td>\n",
       "      <td>2473.001953</td>\n",
       "      <td>...</td>\n",
       "      <td>1000.0</td>\n",
       "      <td>100.0</td>\n",
       "      <td>1.0</td>\n",
       "      <td>1.0</td>\n",
       "      <td>1.0</td>\n",
       "      <td>1.0</td>\n",
       "      <td>1.0</td>\n",
       "      <td>1.0</td>\n",
       "      <td>0.2</td>\n",
       "      <td>overburden</td>\n",
       "    </tr>\n",
       "    <tr>\n",
       "      <th>72599</th>\n",
       "      <td>21</td>\n",
       "      <td>21</td>\n",
       "      <td>149</td>\n",
       "      <td>91.731525</td>\n",
       "      <td>91.731525</td>\n",
       "      <td>5.0</td>\n",
       "      <td>154.134237</td>\n",
       "      <td>154.134237</td>\n",
       "      <td>2475.501953</td>\n",
       "      <td>2473.001953</td>\n",
       "      <td>...</td>\n",
       "      <td>1000.0</td>\n",
       "      <td>100.0</td>\n",
       "      <td>1.0</td>\n",
       "      <td>1.0</td>\n",
       "      <td>1.0</td>\n",
       "      <td>1.0</td>\n",
       "      <td>1.0</td>\n",
       "      <td>1.0</td>\n",
       "      <td>0.2</td>\n",
       "      <td>overburden</td>\n",
       "    </tr>\n",
       "  </tbody>\n",
       "</table>\n",
       "<p>72600 rows × 23 columns</p>\n",
       "</div>"
      ],
      "text/plain": [
       "        i   j    k         DX         DY    DZ           X           Y  \\\n",
       "0       0   0    0  91.731525  91.731525  10.1   45.865763   45.865763   \n",
       "22      1   0    0   7.289250  91.731525  10.1   95.376150   45.865763   \n",
       "44      2   0    0   0.579225  91.731525  10.1   99.310388   45.865763   \n",
       "66      3   0    0   0.050000  91.731525  10.1   99.625000   45.865763   \n",
       "88      4   0    0   0.050000  91.731525  10.1   99.675000   45.865763   \n",
       "...    ..  ..  ...        ...        ...   ...         ...         ...   \n",
       "72511  17  21  149   0.050000  91.731525   5.0  100.325000  154.134237   \n",
       "72533  18  21  149   0.050000  91.731525   5.0  100.375000  154.134237   \n",
       "72555  19  21  149   0.579225  91.731525   5.0  100.689612  154.134237   \n",
       "72577  20  21  149   7.289250  91.731525   5.0  104.623850  154.134237   \n",
       "72599  21  21  149  91.731525  91.731525   5.0  154.134237  154.134237   \n",
       "\n",
       "                 Z    Zcorn_top  ...    PERMY   PERMZ  MULTX  MULTY  MULTZ  \\\n",
       "0         5.050000     0.000000  ...  10000.0  1000.0    1.0    1.0    1.0   \n",
       "22        5.050000     0.000000  ...  10000.0  1000.0    1.0    1.0    1.0   \n",
       "44        5.050000     0.000000  ...  10000.0  1000.0    1.0    1.0    1.0   \n",
       "66        5.050000     0.000000  ...  10000.0  1000.0    1.0    1.0    1.0   \n",
       "88        5.050000     0.000000  ...  10000.0  1000.0    1.0    1.0    1.0   \n",
       "...            ...          ...  ...      ...     ...    ...    ...    ...   \n",
       "72511  2475.501953  2473.001953  ...   1000.0   100.0    1.0    1.0    1.0   \n",
       "72533  2475.501953  2473.001953  ...   1000.0   100.0    1.0    1.0    1.0   \n",
       "72555  2475.501953  2473.001953  ...   1000.0   100.0    1.0    1.0    1.0   \n",
       "72577  2475.501953  2473.001953  ...   1000.0   100.0    1.0    1.0    1.0   \n",
       "72599  2475.501953  2473.001953  ...   1000.0   100.0    1.0    1.0    1.0   \n",
       "\n",
       "       MULTX-  MULTY-  MULTZ-  PORO    material  \n",
       "0         1.0     1.0     1.0   1.0  overburden  \n",
       "22        1.0     1.0     1.0   1.0  overburden  \n",
       "44        1.0     1.0     1.0   1.0  overburden  \n",
       "66        1.0     1.0     1.0   1.0  overburden  \n",
       "88        1.0     1.0     1.0   1.0  overburden  \n",
       "...       ...     ...     ...   ...         ...  \n",
       "72511     1.0     1.0     1.0   0.2  overburden  \n",
       "72533     1.0     1.0     1.0   0.2  overburden  \n",
       "72555     1.0     1.0     1.0   0.2  overburden  \n",
       "72577     1.0     1.0     1.0   0.2  overburden  \n",
       "72599     1.0     1.0     1.0   0.2  overburden  \n",
       "\n",
       "[72600 rows x 23 columns]"
      ]
     },
     "execution_count": 83,
     "metadata": {},
     "output_type": "execute_result"
    }
   ],
   "source": [
    "ip_grid = grid_refine.mesh_df.sort_values(by=[\"k\",\"j\",\"i\"])\n",
    "ip_grid"
   ]
  },
  {
   "cell_type": "code",
   "execution_count": 84,
   "metadata": {},
   "outputs": [
    {
     "data": {
      "text/plain": [
       "pandas.core.frame.DataFrame"
      ]
     },
     "execution_count": 84,
     "metadata": {},
     "output_type": "execute_result"
    }
   ],
   "source": [
    "type(ip_grid)"
   ]
  },
  {
   "cell_type": "code",
   "execution_count": 85,
   "metadata": {},
   "outputs": [
    {
     "data": {
      "text/plain": [
       "[<matplotlib.lines.Line2D at 0x7efc0458c6d0>]"
      ]
     },
     "execution_count": 85,
     "metadata": {},
     "output_type": "execute_result"
    },
    {
     "data": {
      "image/png": "[encoded data removed]",
      "text/plain": [
       "<Figure size 640x480 with 1 Axes>"
      ]
     },
     "metadata": {},
     "output_type": "display_data"
    }
   ],
   "source": [
    "import matplotlib.pyplot as plt\n",
    "\n",
    "\n",
    "fig, ax = plt.subplots()\n",
    "prop = 'PERMX'\n",
    "ax.scatter(ip_grid[prop], lgr_index[prop])\n",
    "ax.set_xlabel(f'{prop} in grid.refine')\n",
    "ax.set_ylabel(f'{prop} in grdecl')\n",
    "ax.plot([0, 1], [0, 1], transform=ax.transAxes, lw=0.5, ls='--')"
   ]
  },
  {
   "cell_type": "code",
   "execution_count": 86,
   "metadata": {},
   "outputs": [
    {
     "data": {
      "text/plain": [
       "[<matplotlib.lines.Line2D at 0x7efbedf049a0>]"
      ]
     },
     "execution_count": 86,
     "metadata": {},
     "output_type": "execute_result"
    },
    {
     "data": {
      "image/png": "[encoded data removed]",
      "text/plain": [
       "<Figure size 640x480 with 1 Axes>"
      ]
     },
     "metadata": {},
     "output_type": "display_data"
    }
   ],
   "source": [
    "fig, ax = plt.subplots()\n",
    "prop = 'DX'\n",
    "ax.scatter(ip_grid[prop], lgr_index[prop])\n",
    "ax.set_xlabel(f'{prop} in grid.refine')\n",
    "ax.set_ylabel(f'{prop} in grdecl')\n",
    "ax.plot([0, 1], [0, 1], transform=ax.transAxes, lw=0.5, ls='--')"
   ]
  },
  {
   "cell_type": "code",
   "execution_count": 87,
   "metadata": {},
   "outputs": [
    {
     "data": {
      "text/plain": [
       "[<matplotlib.lines.Line2D at 0x7efbedec2320>]"
      ]
     },
     "execution_count": 87,
     "metadata": {},
     "output_type": "execute_result"
    },
    {
     "data": {
      "image/png": "[encoded data removed]",
      "text/plain": [
       "<Figure size 640x480 with 1 Axes>"
      ]
     },
     "metadata": {},
     "output_type": "display_data"
    }
   ],
   "source": [
    "fig, ax = plt.subplots()\n",
    "prop = 'DZ'\n",
    "ax.scatter(ip_grid[prop], lgr_index[prop])\n",
    "ax.set_xlabel(f'{prop} in grid.refine')\n",
    "ax.set_ylabel(f'{prop} in grdecl')\n",
    "ax.plot([0, 1], [0, 1], transform=ax.transAxes, lw=0.5, ls='--')"
   ]
  }
 ],
 "metadata": {
  "kernelspec": {
   "display_name": "root",
   "language": "python",
   "name": "python3"
  },
  "language_info": {
   "codemirror_mode": {
    "name": "ipython",
    "version": 3
   },
   "file_extension": ".py",
   "mimetype": "text/x-python",
   "name": "python",
   "nbconvert_exporter": "python",
   "pygments_lexer": "ipython3",
   "version": "3.10.12"
  },
  "orig_nbformat": 4
 },
 "nbformat": 4,
 "nbformat_minor": 2
}
