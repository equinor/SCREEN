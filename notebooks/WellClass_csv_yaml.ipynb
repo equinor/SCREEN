{
 "cells": [
  {
   "cell_type": "code",
   "execution_count": 1,
   "metadata": {},
   "outputs": [],
   "source": [
    "%load_ext autoreload\n",
    "%autoreload 2"
   ]
  },
  {
   "cell_type": "code",
   "execution_count": 2,
   "metadata": {},
   "outputs": [],
   "source": [
    "\n",
    "import os\n",
    "import sys\n",
    "import json\n",
    "\n",
    "import numpy as np\n",
    "import pandas as pd\n",
    "\n",
    "import matplotlib.pyplot as plt\n",
    "from matplotlib import rcParams\n",
    "from matplotlib import font_manager\n",
    "%matplotlib inline\n",
    "import matplotlib.colors as colors\n"
   ]
  },
  {
   "cell_type": "code",
   "execution_count": 3,
   "metadata": {},
   "outputs": [],
   "source": [
    "# resource configuration\n",
    "rcParams['figure.dpi'] = 200\n",
    "\n",
    "# fount information\n",
    "rcParams['font.family'] = 'Equinor'\n",
    "rcParams['font.size'] = 9\n",
    "\n",
    "# fornt location\n",
    "font_path = r'Equinor_regular'\n",
    "font_files = font_manager.findSystemFonts(fontpaths=font_path)\n",
    "\n",
    "for font_file in font_files:\n",
    "    font_manager.fontManager.addfont(font_file)"
   ]
  },
  {
   "cell_type": "code",
   "execution_count": 4,
   "metadata": {},
   "outputs": [],
   "source": [
    "# where WellClass and Ga[ codes are located\n",
    "sys.path.append('../src')"
   ]
  },
  {
   "cell_type": "code",
   "execution_count": 5,
   "metadata": {},
   "outputs": [],
   "source": [
    "# WellClass\n",
    "# from well_class_v2 import csv_parser, Well\n",
    "from WellClass.libs.utils import (\n",
    "    csv_parser,\n",
    "    yaml_parser,\n",
    ")\n",
    "from WellClass.libs.well_class import Well\n",
    "from WellClass.libs.well_pressure import Pressure"
   ]
  },
  {
   "cell_type": "markdown",
   "metadata": {},
   "source": [
    "## Some user options"
   ]
  },
  {
   "cell_type": "code",
   "execution_count": 6,
   "metadata": {},
   "outputs": [],
   "source": [
    "# pick an example from given three options\n",
    "\n",
    "case_type = 'cosmo'\n",
    "\n",
    "case_type = 'smeaheia_v1'\n",
    "\n",
    "case_type = 'smeaheia_v2'"
   ]
  },
  {
   "cell_type": "code",
   "execution_count": 7,
   "metadata": {},
   "outputs": [],
   "source": [
    "# where pvt located\n",
    "pvt_path = '../test_data/pvt_constants/'"
   ]
  },
  {
   "cell_type": "markdown",
   "metadata": {},
   "source": [
    "# Examples\n",
    "\n",
    "The following are the test examples."
   ]
  },
  {
   "cell_type": "code",
   "execution_count": 8,
   "metadata": {},
   "outputs": [],
   "source": [
    "# examples\n",
    "smeaheia_v1 = {'well_input': r'GaP_input_Smeaheia_v3.csv', \n",
    "               'well_input_yaml': r'smeaheia.yaml', \n",
    "            #    'sim_path': r'/scratch/SCS/eim/SMEAHEIA', \n",
    "               'sim_path': r'../test_data/examples/smeaheia_v1',\n",
    "               'simcase': r'GEN_NOLGR_PH2'}\n",
    "smeaheia_v2 = {'well_input': r'GaP_input_Smeaheia_v3.csv', \n",
    "               'well_input_yaml': r'smeaheia.yaml', \n",
    "            #    'sim_path': r'/scratch/SCS/bkh/wbook/realization-0/iter-0/pflotran/model', \n",
    "               'sim_path': r'../test_data/examples/smeaheia_v2', \n",
    "               'simcase': r'TEMP-0'}\n",
    "cosmo = {\n",
    "         'well_input': r'GaP_input_Cosmo_v3.csv', \n",
    "         'well_input_yaml': r'cosmo.yaml', \n",
    "        #  'sim_path': r'/scratch/SCS/bkh/well_class_test1/realization-0/iter-0/pflotran/model', \n",
    "         'sim_path': r'../test_data/examples/cosmo', \n",
    "         'simcase': r'TEMP-0'}"
   ]
  },
  {
   "cell_type": "code",
   "execution_count": 9,
   "metadata": {},
   "outputs": [],
   "source": [
    "examples = {\n",
    "    'smeaheia_v1': smeaheia_v1,\n",
    "    'smeaheia_v2': smeaheia_v2,\n",
    "    'cosmo': cosmo\n",
    "}"
   ]
  },
  {
   "cell_type": "code",
   "execution_count": 10,
   "metadata": {},
   "outputs": [],
   "source": [
    "# the selected example for testing\n",
    "case = examples[case_type]\n"
   ]
  },
  {
   "cell_type": "code",
   "execution_count": 11,
   "metadata": {},
   "outputs": [],
   "source": [
    "\n",
    "# root_path = '/scratch/SCS/gpb/SCREEN/GaP_code'\n",
    "\n",
    "sim_path = case['sim_path']\n"
   ]
  },
  {
   "cell_type": "markdown",
   "metadata": {},
   "source": [
    "# Load well CSV file\n",
    "\n",
    "Process CSV with well class.\n",
    "Predefine a dictionary that includes the input CSV well file, the simulation path, and the PFT sim case name"
   ]
  },
  {
   "cell_type": "code",
   "execution_count": 12,
   "metadata": {},
   "outputs": [],
   "source": [
    "# where well configuration file is located\n",
    "well_name = os.path.join(sim_path, case['well_input'])\n",
    "\n",
    "# load the well information\n",
    "well_csv = csv_parser(well_name)"
   ]
  },
  {
   "cell_type": "code",
   "execution_count": 13,
   "metadata": {
    "scrolled": true
   },
   "outputs": [],
   "source": [
    "#Process well by running well class\n",
    "my_well = Well( header       = well_csv['well_header'], \n",
    "                drilling     = well_csv['drilling'],\n",
    "                casings      = well_csv['casing_cement'],\n",
    "                geology      = well_csv['geology'],\n",
    "                barriers     = well_csv['barriers'], \n",
    "                barrier_perm = well_csv['barrier_permeability'],\n",
    "                co2_datum    = well_csv['co2_datum'],\n",
    "           )"
   ]
  },
  {
   "cell_type": "code",
   "execution_count": 14,
   "metadata": {},
   "outputs": [
    {
     "data": {
      "text/html": [
       "<div>\n",
       "<style scoped>\n",
       "    .dataframe tbody tr th:only-of-type {\n",
       "        vertical-align: middle;\n",
       "    }\n",
       "\n",
       "    .dataframe tbody tr th {\n",
       "        vertical-align: top;\n",
       "    }\n",
       "\n",
       "    .dataframe thead th {\n",
       "        text-align: right;\n",
       "    }\n",
       "</style>\n",
       "<table border=\"1\" class=\"dataframe\">\n",
       "  <thead>\n",
       "    <tr style=\"text-align: right;\">\n",
       "      <th></th>\n",
       "      <th>top_rkb</th>\n",
       "      <th>geol_unit</th>\n",
       "      <th>reservoir_flag</th>\n",
       "      <th>top_msl</th>\n",
       "      <th>base_msl</th>\n",
       "    </tr>\n",
       "  </thead>\n",
       "  <tbody>\n",
       "    <tr>\n",
       "      <th>0</th>\n",
       "      <td>336</td>\n",
       "      <td>NORDLAND GP</td>\n",
       "      <td>False</td>\n",
       "      <td>312.5</td>\n",
       "      <td>511.5</td>\n",
       "    </tr>\n",
       "    <tr>\n",
       "      <th>1</th>\n",
       "      <td>535</td>\n",
       "      <td>ROGALAND GP</td>\n",
       "      <td>False</td>\n",
       "      <td>511.5</td>\n",
       "      <td>822.5</td>\n",
       "    </tr>\n",
       "    <tr>\n",
       "      <th>2</th>\n",
       "      <td>846</td>\n",
       "      <td>SHETLAND GP</td>\n",
       "      <td>False</td>\n",
       "      <td>822.5</td>\n",
       "      <td>1057.5</td>\n",
       "    </tr>\n",
       "    <tr>\n",
       "      <th>3</th>\n",
       "      <td>1081</td>\n",
       "      <td>CROMER KNOLL GP</td>\n",
       "      <td>False</td>\n",
       "      <td>1057.5</td>\n",
       "      <td>1085.5</td>\n",
       "    </tr>\n",
       "    <tr>\n",
       "      <th>4</th>\n",
       "      <td>1109</td>\n",
       "      <td>DRAUPNE FM</td>\n",
       "      <td>False</td>\n",
       "      <td>1085.5</td>\n",
       "      <td>1192.5</td>\n",
       "    </tr>\n",
       "    <tr>\n",
       "      <th>5</th>\n",
       "      <td>1216</td>\n",
       "      <td>HEATHER FM</td>\n",
       "      <td>False</td>\n",
       "      <td>1192.5</td>\n",
       "      <td>1214.5</td>\n",
       "    </tr>\n",
       "    <tr>\n",
       "      <th>6</th>\n",
       "      <td>1238</td>\n",
       "      <td>SOGNEFJORD FM</td>\n",
       "      <td>True</td>\n",
       "      <td>1214.5</td>\n",
       "      <td>1282.5</td>\n",
       "    </tr>\n",
       "    <tr>\n",
       "      <th>7</th>\n",
       "      <td>1306</td>\n",
       "      <td>HEATHER FM</td>\n",
       "      <td>False</td>\n",
       "      <td>1282.5</td>\n",
       "      <td>1342.5</td>\n",
       "    </tr>\n",
       "    <tr>\n",
       "      <th>8</th>\n",
       "      <td>1366</td>\n",
       "      <td>FENSFJORD FM</td>\n",
       "      <td>True</td>\n",
       "      <td>1342.5</td>\n",
       "      <td>1571.5</td>\n",
       "    </tr>\n",
       "    <tr>\n",
       "      <th>9</th>\n",
       "      <td>1595</td>\n",
       "      <td>HEATHER FM</td>\n",
       "      <td>False</td>\n",
       "      <td>1571.5</td>\n",
       "      <td>1574.5</td>\n",
       "    </tr>\n",
       "    <tr>\n",
       "      <th>10</th>\n",
       "      <td>1598</td>\n",
       "      <td>KROSSFJORD FM</td>\n",
       "      <td>True</td>\n",
       "      <td>1574.5</td>\n",
       "      <td>1621.5</td>\n",
       "    </tr>\n",
       "    <tr>\n",
       "      <th>11</th>\n",
       "      <td>1645</td>\n",
       "      <td>HEATHER FM</td>\n",
       "      <td>False</td>\n",
       "      <td>1621.5</td>\n",
       "      <td>1626.5</td>\n",
       "    </tr>\n",
       "    <tr>\n",
       "      <th>12</th>\n",
       "      <td>1650</td>\n",
       "      <td>BRENT GP</td>\n",
       "      <td>False</td>\n",
       "      <td>1626.5</td>\n",
       "      <td>1759.5</td>\n",
       "    </tr>\n",
       "    <tr>\n",
       "      <th>13</th>\n",
       "      <td>1783</td>\n",
       "      <td>DUNLIN GP</td>\n",
       "      <td>False</td>\n",
       "      <td>1759.5</td>\n",
       "      <td>1792.5</td>\n",
       "    </tr>\n",
       "    <tr>\n",
       "      <th>14</th>\n",
       "      <td>1816</td>\n",
       "      <td>STATFJORD GP</td>\n",
       "      <td>False</td>\n",
       "      <td>1792.5</td>\n",
       "      <td>1808.5</td>\n",
       "    </tr>\n",
       "    <tr>\n",
       "      <th>15</th>\n",
       "      <td>1832</td>\n",
       "      <td>HEGRE GP</td>\n",
       "      <td>False</td>\n",
       "      <td>1808.5</td>\n",
       "      <td>3108.5</td>\n",
       "    </tr>\n",
       "    <tr>\n",
       "      <th>16</th>\n",
       "      <td>3132</td>\n",
       "      <td>BASEMENT</td>\n",
       "      <td>False</td>\n",
       "      <td>3108.5</td>\n",
       "      <td>3162.5</td>\n",
       "    </tr>\n",
       "  </tbody>\n",
       "</table>\n",
       "</div>"
      ],
      "text/plain": [
       "    top_rkb        geol_unit  reservoir_flag  top_msl  base_msl\n",
       "0       336      NORDLAND GP           False    312.5     511.5\n",
       "1       535      ROGALAND GP           False    511.5     822.5\n",
       "2       846      SHETLAND GP           False    822.5    1057.5\n",
       "3      1081  CROMER KNOLL GP           False   1057.5    1085.5\n",
       "4      1109       DRAUPNE FM           False   1085.5    1192.5\n",
       "5      1216       HEATHER FM           False   1192.5    1214.5\n",
       "6      1238    SOGNEFJORD FM            True   1214.5    1282.5\n",
       "7      1306       HEATHER FM           False   1282.5    1342.5\n",
       "8      1366     FENSFJORD FM            True   1342.5    1571.5\n",
       "9      1595       HEATHER FM           False   1571.5    1574.5\n",
       "10     1598    KROSSFJORD FM            True   1574.5    1621.5\n",
       "11     1645       HEATHER FM           False   1621.5    1626.5\n",
       "12     1650         BRENT GP           False   1626.5    1759.5\n",
       "13     1783        DUNLIN GP           False   1759.5    1792.5\n",
       "14     1816     STATFJORD GP           False   1792.5    1808.5\n",
       "15     1832         HEGRE GP           False   1808.5    3108.5\n",
       "16     3132         BASEMENT           False   3108.5    3162.5"
      ]
     },
     "execution_count": 14,
     "metadata": {},
     "output_type": "execute_result"
    }
   ],
   "source": [
    "aa = pd.DataFrame(my_well.geology)\n",
    "aa"
   ]
  },
  {
   "cell_type": "code",
   "execution_count": 15,
   "metadata": {},
   "outputs": [
    {
     "data": {
      "text/plain": [
       "1282.5"
      ]
     },
     "execution_count": 15,
     "metadata": {},
     "output_type": "execute_result"
    }
   ],
   "source": [
    "my_well.co2_datum"
   ]
  },
  {
   "cell_type": "code",
   "execution_count": 16,
   "metadata": {},
   "outputs": [
    {
     "data": {
      "text/plain": [
       "{'depth_msl': 1217.0, 'RP1': nan, 'RP2': 91.0, 'RP3': 20.0}"
      ]
     },
     "execution_count": 16,
     "metadata": {},
     "output_type": "execute_result"
    }
   ],
   "source": [
    "well_csv['reservoir_pressure']"
   ]
  },
  {
   "cell_type": "code",
   "execution_count": 17,
   "metadata": {},
   "outputs": [
    {
     "name": "stdout",
     "output_type": "stream",
     "text": [
      "Hydrostatic pressure at reference depth 1217 is 120.43\n",
      "RP1 set as hydrostatic P = 120.43 bar\n",
      "RP2 is set as delta pressure, which yields P = 120.43 +91.00 = 211.43 bar\n",
      "RP3 is set as delta pressure, which yields P = 120.43 +20.00 = 140.43 bar\n",
      "Reference depth: 1217.0\n"
     ]
    }
   ],
   "source": [
    "my_pressure = Pressure(\n",
    "    header      = well_csv['well_header'],\n",
    "    reservoir_P = well_csv['reservoir_pressure'],\n",
    "    co2_datum   = well_csv['co2_datum'],\n",
    "    pvt_path    = pvt_path,\n",
    ")"
   ]
  },
  {
   "cell_type": "markdown",
   "metadata": {},
   "source": [
    "# Load well Yaml file\n",
    "\n",
    "Process yaml with well class.\n",
    "Predefine a dictionary that includes the input yaml well file, the simulation path, and the PFT sim case name"
   ]
  },
  {
   "cell_type": "code",
   "execution_count": 18,
   "metadata": {},
   "outputs": [],
   "source": [
    "# where well configuration file is located\n",
    "well_name = os.path.join(sim_path, case['well_input_yaml'])\n",
    "\n",
    "# # pydantic model\n",
    "well_model = yaml_parser(well_name)\n",
    "well_csv = json.loads(well_model.spec.model_dump_json())"
   ]
  },
  {
   "cell_type": "code",
   "execution_count": 19,
   "metadata": {},
   "outputs": [],
   "source": [
    "#Process well by running well class\n",
    "my_well_yaml = Well( header       = well_csv['well_header'], \n",
    "                     drilling     = well_csv['drilling'],\n",
    "                     casings      = well_csv['casing_cement'],\n",
    "                     geology      = well_csv['geology'],\n",
    "                     barriers     = well_csv['barriers'], \n",
    "                     barrier_perm = well_csv['barrier_permeability'],\n",
    "                     co2_datum    = well_csv['co2_datum'],\n",
    "           )"
   ]
  },
  {
   "cell_type": "code",
   "execution_count": 20,
   "metadata": {},
   "outputs": [
    {
     "data": {
      "text/html": [
       "<div>\n",
       "<style scoped>\n",
       "    .dataframe tbody tr th:only-of-type {\n",
       "        vertical-align: middle;\n",
       "    }\n",
       "\n",
       "    .dataframe tbody tr th {\n",
       "        vertical-align: top;\n",
       "    }\n",
       "\n",
       "    .dataframe thead th {\n",
       "        text-align: right;\n",
       "    }\n",
       "</style>\n",
       "<table border=\"1\" class=\"dataframe\">\n",
       "  <thead>\n",
       "    <tr style=\"text-align: right;\">\n",
       "      <th></th>\n",
       "      <th>top_rkb</th>\n",
       "      <th>geol_unit</th>\n",
       "      <th>reservoir_flag</th>\n",
       "      <th>top_msl</th>\n",
       "      <th>base_msl</th>\n",
       "    </tr>\n",
       "  </thead>\n",
       "  <tbody>\n",
       "    <tr>\n",
       "      <th>0</th>\n",
       "      <td>336.0</td>\n",
       "      <td>NORDLAND GP</td>\n",
       "      <td>False</td>\n",
       "      <td>312.5</td>\n",
       "      <td>511.5</td>\n",
       "    </tr>\n",
       "    <tr>\n",
       "      <th>1</th>\n",
       "      <td>535.0</td>\n",
       "      <td>ROGALAND GP</td>\n",
       "      <td>False</td>\n",
       "      <td>511.5</td>\n",
       "      <td>822.5</td>\n",
       "    </tr>\n",
       "    <tr>\n",
       "      <th>2</th>\n",
       "      <td>846.0</td>\n",
       "      <td>SHETLAND GP</td>\n",
       "      <td>False</td>\n",
       "      <td>822.5</td>\n",
       "      <td>1057.5</td>\n",
       "    </tr>\n",
       "    <tr>\n",
       "      <th>3</th>\n",
       "      <td>1081.0</td>\n",
       "      <td>CROMER KNOLL GP</td>\n",
       "      <td>False</td>\n",
       "      <td>1057.5</td>\n",
       "      <td>1085.5</td>\n",
       "    </tr>\n",
       "    <tr>\n",
       "      <th>4</th>\n",
       "      <td>1109.0</td>\n",
       "      <td>DRAUPNE FM</td>\n",
       "      <td>False</td>\n",
       "      <td>1085.5</td>\n",
       "      <td>1192.5</td>\n",
       "    </tr>\n",
       "    <tr>\n",
       "      <th>5</th>\n",
       "      <td>1216.0</td>\n",
       "      <td>HEATHER FM</td>\n",
       "      <td>False</td>\n",
       "      <td>1192.5</td>\n",
       "      <td>1214.5</td>\n",
       "    </tr>\n",
       "    <tr>\n",
       "      <th>6</th>\n",
       "      <td>1238.0</td>\n",
       "      <td>SOGNEFJORD FM</td>\n",
       "      <td>True</td>\n",
       "      <td>1214.5</td>\n",
       "      <td>1282.5</td>\n",
       "    </tr>\n",
       "    <tr>\n",
       "      <th>7</th>\n",
       "      <td>1306.0</td>\n",
       "      <td>HEATHER FM</td>\n",
       "      <td>False</td>\n",
       "      <td>1282.5</td>\n",
       "      <td>1342.5</td>\n",
       "    </tr>\n",
       "    <tr>\n",
       "      <th>8</th>\n",
       "      <td>1366.0</td>\n",
       "      <td>FENSFJORD FM</td>\n",
       "      <td>True</td>\n",
       "      <td>1342.5</td>\n",
       "      <td>1571.5</td>\n",
       "    </tr>\n",
       "    <tr>\n",
       "      <th>9</th>\n",
       "      <td>1595.0</td>\n",
       "      <td>HEATHER FM</td>\n",
       "      <td>False</td>\n",
       "      <td>1571.5</td>\n",
       "      <td>1574.5</td>\n",
       "    </tr>\n",
       "    <tr>\n",
       "      <th>10</th>\n",
       "      <td>1598.0</td>\n",
       "      <td>KROSSFJORD FM</td>\n",
       "      <td>True</td>\n",
       "      <td>1574.5</td>\n",
       "      <td>1621.5</td>\n",
       "    </tr>\n",
       "    <tr>\n",
       "      <th>11</th>\n",
       "      <td>1645.0</td>\n",
       "      <td>HEATHER FM</td>\n",
       "      <td>False</td>\n",
       "      <td>1621.5</td>\n",
       "      <td>1626.5</td>\n",
       "    </tr>\n",
       "    <tr>\n",
       "      <th>12</th>\n",
       "      <td>1650.0</td>\n",
       "      <td>BRENT GP</td>\n",
       "      <td>False</td>\n",
       "      <td>1626.5</td>\n",
       "      <td>1759.5</td>\n",
       "    </tr>\n",
       "    <tr>\n",
       "      <th>13</th>\n",
       "      <td>1783.0</td>\n",
       "      <td>DUNLIN GP</td>\n",
       "      <td>False</td>\n",
       "      <td>1759.5</td>\n",
       "      <td>1792.5</td>\n",
       "    </tr>\n",
       "    <tr>\n",
       "      <th>14</th>\n",
       "      <td>1816.0</td>\n",
       "      <td>STATFJORD GP</td>\n",
       "      <td>False</td>\n",
       "      <td>1792.5</td>\n",
       "      <td>1808.5</td>\n",
       "    </tr>\n",
       "    <tr>\n",
       "      <th>15</th>\n",
       "      <td>1832.0</td>\n",
       "      <td>HEGRE GP</td>\n",
       "      <td>False</td>\n",
       "      <td>1808.5</td>\n",
       "      <td>3108.5</td>\n",
       "    </tr>\n",
       "    <tr>\n",
       "      <th>16</th>\n",
       "      <td>3132.0</td>\n",
       "      <td>BASEMENT</td>\n",
       "      <td>False</td>\n",
       "      <td>3108.5</td>\n",
       "      <td>3162.5</td>\n",
       "    </tr>\n",
       "  </tbody>\n",
       "</table>\n",
       "</div>"
      ],
      "text/plain": [
       "    top_rkb        geol_unit  reservoir_flag  top_msl  base_msl\n",
       "0     336.0      NORDLAND GP           False    312.5     511.5\n",
       "1     535.0      ROGALAND GP           False    511.5     822.5\n",
       "2     846.0      SHETLAND GP           False    822.5    1057.5\n",
       "3    1081.0  CROMER KNOLL GP           False   1057.5    1085.5\n",
       "4    1109.0       DRAUPNE FM           False   1085.5    1192.5\n",
       "5    1216.0       HEATHER FM           False   1192.5    1214.5\n",
       "6    1238.0    SOGNEFJORD FM            True   1214.5    1282.5\n",
       "7    1306.0       HEATHER FM           False   1282.5    1342.5\n",
       "8    1366.0     FENSFJORD FM            True   1342.5    1571.5\n",
       "9    1595.0       HEATHER FM           False   1571.5    1574.5\n",
       "10   1598.0    KROSSFJORD FM            True   1574.5    1621.5\n",
       "11   1645.0       HEATHER FM           False   1621.5    1626.5\n",
       "12   1650.0         BRENT GP           False   1626.5    1759.5\n",
       "13   1783.0        DUNLIN GP           False   1759.5    1792.5\n",
       "14   1816.0     STATFJORD GP           False   1792.5    1808.5\n",
       "15   1832.0         HEGRE GP           False   1808.5    3108.5\n",
       "16   3132.0         BASEMENT           False   3108.5    3162.5"
      ]
     },
     "execution_count": 20,
     "metadata": {},
     "output_type": "execute_result"
    }
   ],
   "source": [
    "bb = pd.DataFrame(my_well_yaml.geology)\n",
    "bb"
   ]
  },
  {
   "cell_type": "code",
   "execution_count": 21,
   "metadata": {},
   "outputs": [
    {
     "data": {
      "text/plain": [
       "1282.5"
      ]
     },
     "execution_count": 21,
     "metadata": {},
     "output_type": "execute_result"
    }
   ],
   "source": [
    "my_well_yaml.co2_datum"
   ]
  },
  {
   "cell_type": "code",
   "execution_count": 22,
   "metadata": {},
   "outputs": [
    {
     "data": {
      "text/plain": [
       "{'depth_msl': 1217.0, 'RP1': None, 'RP2': '91', 'RP3': '20'}"
      ]
     },
     "execution_count": 22,
     "metadata": {},
     "output_type": "execute_result"
    }
   ],
   "source": [
    "well_csv['reservoir_pressure']"
   ]
  },
  {
   "cell_type": "code",
   "execution_count": 23,
   "metadata": {},
   "outputs": [
    {
     "name": "stdout",
     "output_type": "stream",
     "text": [
      "Hydrostatic pressure at reference depth 1217 is 120.43\n",
      "RP1 set as hydrostatic P = 120.43 bar\n",
      "RP2 is set as delta pressure, which yields P = 120.43 +91.00 = 211.43 bar\n",
      "RP3 is set as delta pressure, which yields P = 120.43 +20.00 = 140.43 bar\n",
      "Reference depth: 1217.0\n"
     ]
    }
   ],
   "source": [
    "my_pressure_yaml = Pressure(\n",
    "    header      = well_csv['well_header'],\n",
    "    reservoir_P = well_csv['reservoir_pressure'],\n",
    "    co2_datum   = well_csv['co2_datum'],\n",
    "    pvt_path    = pvt_path,\n",
    ")"
   ]
  }
 ],
 "metadata": {
  "kernelspec": {
   "display_name": "Python 3 (ipykernel)",
   "language": "python",
   "name": "python3"
  },
  "language_info": {
   "codemirror_mode": {
    "name": "ipython",
    "version": 3
   },
   "file_extension": ".py",
   "mimetype": "text/x-python",
   "name": "python",
   "nbconvert_exporter": "python",
   "pygments_lexer": "ipython3",
   "version": "3.10.12"
  }
 },
 "nbformat": 4,
 "nbformat_minor": 4
}
