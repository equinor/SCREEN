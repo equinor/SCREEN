{
 "cells": [
  {
   "cell_type": "markdown",
   "id": "f5521828-1afd-4026-9a9a-b42b17322c4f",
   "metadata": {},
   "source": [
    "Use the autoreload to make sure the latest version of the module is used.\n",
    "There are 3 configuration options that can be set:\n",
    "\n",
    "> ```%autoreload 0 ```: Disables the auto-reloading. This is the default setting.\n",
    "\n",
    "> ```%autoreload 1``` :Will only auto-reload modules that were imported using the %aimport function (e.g %aimport my_module). It’s a good option if you want to specifically auto-reload only a selected module.\n",
    "\n",
    "> ```%autoreload 2``` : auto-reload all the modules. Great way to make writing and testing your modules much easier."
   ]
  },
  {
   "cell_type": "code",
   "execution_count": 121,
   "id": "d4607b6c-57a7-443e-8bbd-64b75c02483c",
   "metadata": {},
   "outputs": [
    {
     "name": "stdout",
     "output_type": "stream",
     "text": [
      "The autoreload extension is already loaded. To reload it, use:\n",
      "  %reload_ext autoreload\n"
     ]
    }
   ],
   "source": [
    "%load_ext autoreload\n",
    "%autoreload 2"
   ]
  },
  {
   "cell_type": "code",
   "execution_count": 122,
   "id": "bc2a4c05-0091-4315-8265-6f86ec281a22",
   "metadata": {},
   "outputs": [],
   "source": [
    "\"\"\" Grid as Pipe is used to generate LGR grid for later CO2 simulation in pflotran or Eclipse\n",
    "\"\"\"\n",
    "%matplotlib inline\n",
    "\n",
    "import os\n",
    "import json\n",
    "import yaml\n",
    "\n",
    "from dataclasses import dataclass\n",
    "\n",
    "import numpy as np\n",
    "from matplotlib import pyplot as plt\n"
   ]
  },
  {
   "cell_type": "code",
   "execution_count": 123,
   "id": "e79fac92-82c0-4f3c-8464-5d64d824160a",
   "metadata": {},
   "outputs": [],
   "source": [
    "#import rips \n",
    "\n",
    "from ecl.grid import EclGrid\n",
    "from ecl.eclfile import EclInitFile"
   ]
  },
  {
   "cell_type": "code",
   "execution_count": 124,
   "id": "0ddd9a9e-bcc7-4253-a507-617c94bedbed",
   "metadata": {},
   "outputs": [],
   "source": [
    "import sys\n",
    "\n",
    "sys.path.append('../')"
   ]
  },
  {
   "cell_type": "code",
   "execution_count": 125,
   "id": "cd409fbf-2486-4714-8fa4-6566a76b244d",
   "metadata": {},
   "outputs": [],
   "source": [
    "# \n",
    "from libs.geometry import (\n",
    "    make_stat_3d_main,\n",
    "    generate_LGR_grids,\n",
    ")\n",
    "\n",
    "from libs.models import GaPModel\n",
    "\n",
    "from libs.geometry.bbox_pipe_with_oph_sec import bbox_for_pipe_with_oph_sec\n",
    "from libs.geometry.bbox_barrier import bbox_for_barrier\n",
    "from libs.geometry.bbox_cement_bond import bbox_for_cement_bond\n",
    "\n",
    "from libs.carfin import build_grdecl\n",
    "\n",
    "from libs.plotting import (\n",
    "    pipe_plotter, \n",
    "    barrier_plotter,\n",
    "    ob_reservoir_plotter,\n",
    ")"
   ]
  },
  {
   "cell_type": "code",
   "execution_count": 126,
   "id": "c91fec8f-60eb-4058-bdb3-216f0f7d6adc",
   "metadata": {},
   "outputs": [
    {
     "name": "stdout",
     "output_type": "stream",
     "text": [
      "/scratch/SCS/hzh/SCREEN/src/GaP/notebooks\n"
     ]
    }
   ],
   "source": [
    "!pwd"
   ]
  },
  {
   "cell_type": "code",
   "execution_count": 127,
   "id": "b8f85e4c-4505-403d-a9a5-d4e128e911b6",
   "metadata": {},
   "outputs": [],
   "source": [
    "# input_path='/scratch/SCS/eim/SMEAHEIA'\n",
    "\n",
    "config_file = './smeaheia.yaml'\n"
   ]
  },
  {
   "cell_type": "code",
   "execution_count": 128,
   "id": "c9cf030a-2351-4431-abd3-9e584c3fa0dd",
   "metadata": {},
   "outputs": [],
   "source": [
    "# load configuration file\n",
    "with open(config_file, \"r\") as f:\n",
    "    config = yaml.safe_load(f)\n",
    "\n",
    "# dict => pydantic model\n",
    "gap = GaPModel(**config)"
   ]
  },
  {
   "cell_type": "code",
   "execution_count": 129,
   "id": "922e1ec5-d5d3-435a-ab6e-3ed480058692",
   "metadata": {},
   "outputs": [],
   "source": [
    "# pretty print\n",
    "# print(json.dumps(gap.model_dump(mode='json'), indent=2))"
   ]
  },
  {
   "cell_type": "code",
   "execution_count": 130,
   "id": "a69a64d7",
   "metadata": {},
   "outputs": [],
   "source": [
    "# only for convenience\n",
    "spec = gap.spec"
   ]
  },
  {
   "cell_type": "code",
   "execution_count": 131,
   "id": "26b7a08b-376f-405a-9c72-56e17eb30328",
   "metadata": {},
   "outputs": [],
   "source": [
    "# 0.1 before sorting\n",
    "# casings\n",
    "casings = spec.casings\n",
    "# barriers\n",
    "barriers = spec.barriers\n",
    "\n",
    "# # for qc\n",
    "# print(casings)\n",
    "\n",
    "# 0.2 after sorting\n",
    "# casings\n",
    "casings.sort(reverse=True, key=lambda elem: elem.ID)\n",
    "# barriers\n",
    "barriers.sort(reverse=True, key=lambda elem: elem.ID)"
   ]
  },
  {
   "cell_type": "code",
   "execution_count": 132,
   "id": "84c2f5fa",
   "metadata": {},
   "outputs": [],
   "source": [
    "# # for qc\n",
    "# for casing in casings:\n",
    "#     casing_json = casing.model_dump()\n",
    "#     print(json.dumps(casing_json, indent=2))"
   ]
  },
  {
   "cell_type": "code",
   "execution_count": 133,
   "id": "11509977-68da-491c-9a47-3f30177449a4",
   "metadata": {},
   "outputs": [],
   "source": [
    "# input simulation case\n",
    "input_folder = spec.sim_case.folder\n",
    "simcase = os.path.join(input_folder, spec.sim_case.filename)\n",
    "\n",
    "# output LGR name\n",
    "output_folder = spec.lgr_out.folder\n",
    "LGR_NAME = spec.lgr_out.filename\n",
    "\n",
    "# minimum dz value for overburden\n",
    "MIN_DZ_OB = spec.defaults.mindz_ob"
   ]
  },
  {
   "cell_type": "markdown",
   "id": "9680678b-5b19-4a9b-8ea8-b3fb515736c6",
   "metadata": {},
   "source": [
    "## Grid (coarse) information"
   ]
  },
  {
   "cell_type": "code",
   "execution_count": 134,
   "id": "f1f38375-991e-4fe0-9ccb-3ef61da2e879",
   "metadata": {
    "scrolled": true
   },
   "outputs": [],
   "source": [
    "####### 0. Initialization ######\n",
    "\n",
    "################### 0.1 Loading the model ################\n",
    "# Eclipse grid\n",
    "grid = EclGrid(simcase + \".EGRID\") \n",
    "init = EclInitFile(grid, simcase + \".INIT\")\n",
    "#init = EclGrid(simcase + \".INIT\")"
   ]
  },
  {
   "cell_type": "code",
   "execution_count": 135,
   "id": "86dbee9d-f9a3-4b57-ab49-e4fc007b76aa",
   "metadata": {},
   "outputs": [
    {
     "data": {
      "text/plain": [
       "(20, 20, 82)"
      ]
     },
     "execution_count": 135,
     "metadata": {},
     "output_type": "execute_result"
    }
   ],
   "source": [
    "# dimension of coarse grid\n",
    "nx, ny, nz, _ = grid.get_dims()\n",
    "nx, ny, nz"
   ]
  },
  {
   "cell_type": "code",
   "execution_count": 136,
   "id": "0b68a6ce-c550-48f9-9f60-2a5433e1d320",
   "metadata": {},
   "outputs": [],
   "source": [
    "############## 0.2 Main grid input data ##################\n",
    "\n",
    "main_grd_i = nx//2\n",
    "main_grd_j = ny//2\n",
    "\n",
    "main_grd_min_k = 1\n",
    "main_grd_max_k = nz"
   ]
  },
  {
   "cell_type": "code",
   "execution_count": 137,
   "id": "262fddc9-cae2-4c6e-8be4-e2a87110f287",
   "metadata": {},
   "outputs": [
    {
     "data": {
      "text/plain": [
       "(10, 10, 1, 82)"
      ]
     },
     "execution_count": 137,
     "metadata": {},
     "output_type": "execute_result"
    }
   ],
   "source": [
    "main_grd_i, main_grd_j, main_grd_min_k, main_grd_max_k"
   ]
  },
  {
   "cell_type": "code",
   "execution_count": 138,
   "id": "7311724c-9ae6-43b7-abc5-145135db5509",
   "metadata": {},
   "outputs": [
    {
     "data": {
      "text/plain": [
       "200.0"
      ]
     },
     "execution_count": 138,
     "metadata": {},
     "output_type": "execute_result"
    }
   ],
   "source": [
    "# dx and dy (coarse grid) at well location\n",
    "main_grd_dx =  make_stat_3d_main(grid, init, 'DX', 0)[main_grd_i-1, main_grd_j-1, main_grd_min_k-1]       # 656.168 ft \n",
    "\n",
    "main_grd_dx"
   ]
  },
  {
   "cell_type": "code",
   "execution_count": 139,
   "id": "158024fe-32ec-4498-a3f3-a39b80385e1f",
   "metadata": {},
   "outputs": [
    {
     "data": {
      "text/plain": [
       "array([308., 100., 100., 100., 100., 100., 100., 100., 100., 100.,   5.,\n",
       "         5.,   5.,   5.,   5.,   5.,   5.,   5.,   5.,   5.,   5.,   5.,\n",
       "         5.,   5.,   5.,   5.,   5.,   5.,   5.,   5.,   5.,   5.,   5.,\n",
       "         5.,   5.,   5.,   5.,   5.,   5.,   5.,   5.,   5.,   5.,   5.,\n",
       "         5.,   5.,   5.,   5.,   5.,   5.,   5.,   5.,   5.,   5.,   5.,\n",
       "         5.,   5.,   5.,   5.,   5.,   5.,   5.,   5.,   5.,   5.,   5.,\n",
       "         5.,   5.,   5.,   5.,   5.,   5.,  10.,  10.,  10.,  10.,  10.,\n",
       "        10.,  10.,  10.,  10.,  10.])"
      ]
     },
     "execution_count": 139,
     "metadata": {},
     "output_type": "execute_result"
    }
   ],
   "source": [
    "# list of DZs (coarse grid)\n",
    "main_DZ = make_stat_3d_main(grid, init, 'DZ', 0)[main_grd_i-1, main_grd_j-1, (main_grd_min_k-1):main_grd_max_k]\n",
    "\n",
    "main_DZ"
   ]
  },
  {
   "cell_type": "code",
   "execution_count": 140,
   "id": "f157efb8",
   "metadata": {},
   "outputs": [
    {
     "data": {
      "text/plain": [
       "array([ 158. ,  362. ,  462. ,  562. ,  662. ,  762. ,  862. ,  962. ,\n",
       "       1062. , 1162. , 1214.5, 1219.5, 1224.5, 1229.5, 1234.5, 1239.5,\n",
       "       1244.5, 1249.5, 1254.5, 1259.5, 1264.5, 1269.5, 1274.5, 1279.5,\n",
       "       1284.5, 1289.5, 1294.5, 1299.5, 1304.5, 1309.5, 1314.5, 1319.5,\n",
       "       1324.5, 1329.5, 1334.5, 1339.5, 1344.5, 1349.5, 1354.5, 1359.5,\n",
       "       1364.5, 1369.5, 1374.5, 1379.5, 1384.5, 1389.5, 1394.5, 1399.5,\n",
       "       1404.5, 1409.5, 1414.5, 1419.5, 1424.5, 1429.5, 1434.5, 1439.5,\n",
       "       1444.5, 1449.5, 1454.5, 1459.5, 1464.5, 1469.5, 1474.5, 1479.5,\n",
       "       1484.5, 1489.5, 1494.5, 1499.5, 1504.5, 1509.5, 1514.5, 1519.5,\n",
       "       1527. , 1537. , 1547. , 1557. , 1567. , 1577. , 1587. , 1597. ,\n",
       "       1607. , 1617. ])"
      ]
     },
     "execution_count": 140,
     "metadata": {},
     "output_type": "execute_result"
    }
   ],
   "source": [
    "main_DEPTH = make_stat_3d_main(grid, init, 'DEPTH', 0)[main_grd_i-1, main_grd_j-1, (main_grd_min_k-1):main_grd_max_k]\n",
    "main_DEPTH"
   ]
  },
  {
   "cell_type": "code",
   "execution_count": 141,
   "id": "40c0d029-4a43-466a-a32c-c3160cb1485f",
   "metadata": {},
   "outputs": [
    {
     "data": {
      "text/plain": [
       "(158.0, 154.0)"
      ]
     },
     "execution_count": 141,
     "metadata": {},
     "output_type": "execute_result"
    }
   ],
   "source": [
    "main_DEPTH[0], 0.5*main_DZ[0]"
   ]
  },
  {
   "cell_type": "code",
   "execution_count": 142,
   "id": "41608ee6-149e-4eba-b85f-c5a3481cb008",
   "metadata": {},
   "outputs": [
    {
     "data": {
      "text/plain": [
       "4.0"
      ]
     },
     "execution_count": 142,
     "metadata": {},
     "output_type": "execute_result"
    }
   ],
   "source": [
    "# reference depth where LGR (legacy well) starts\n",
    "ref_depth = main_DEPTH[0] - 0.5*main_DZ[0]\n",
    "ref_depth"
   ]
  },
  {
   "cell_type": "code",
   "execution_count": 143,
   "id": "162c818b-26f0-4dfa-94b5-c5b1e9624f0c",
   "metadata": {},
   "outputs": [],
   "source": [
    "# assume any layers that has DZ > 10 will be overburden layers\n",
    "DZ0 = 10.0"
   ]
  },
  {
   "cell_type": "code",
   "execution_count": 144,
   "id": "42671dfb-238c-4b4a-aff1-8f0c119f0122",
   "metadata": {},
   "outputs": [
    {
     "data": {
      "text/plain": [
       "10"
      ]
     },
     "execution_count": 144,
     "metadata": {},
     "output_type": "execute_result"
    }
   ],
   "source": [
    "# number of layer in overburden \n",
    "no_of_layers_in_OB = np.count_nonzero(main_DZ[main_DZ > DZ0])\n",
    "no_of_layers_in_OB"
   ]
  },
  {
   "cell_type": "markdown",
   "id": "60d45454-7483-463b-bd49-08a1c3eebd79",
   "metadata": {},
   "source": [
    "## LGR grids"
   ]
  },
  {
   "cell_type": "code",
   "execution_count": 145,
   "id": "5c7f22b7-5aa4-42ba-b1c8-45e3a9983513",
   "metadata": {},
   "outputs": [
    {
     "name": "stdout",
     "output_type": "stream",
     "text": [
      "Generate LGR grid...\n"
     ]
    }
   ],
   "source": [
    "################# 2. generate LGR grids ##################################\n",
    "\n",
    "\n",
    "print ('Generate LGR grid...') "
   ]
  },
  {
   "cell_type": "code",
   "execution_count": 146,
   "id": "2077e5b1-8df6-46ae-87fc-4e6fff7e2d32",
   "metadata": {},
   "outputs": [
    {
     "data": {
      "text/plain": [
       "(1, 82)"
      ]
     },
     "execution_count": 146,
     "metadata": {},
     "output_type": "execute_result"
    }
   ],
   "source": [
    "main_grd_min_k, main_grd_max_k"
   ]
  },
  {
   "cell_type": "code",
   "execution_count": 147,
   "id": "d475b6ce-ae5b-472e-bb7c-3fd65ba72e1f",
   "metadata": {},
   "outputs": [
    {
     "data": {
      "text/plain": [
       "(10, 72)"
      ]
     },
     "execution_count": 147,
     "metadata": {},
     "output_type": "execute_result"
    }
   ],
   "source": [
    "# number of OB layers\n",
    "aa = no_of_layers_in_OB - main_grd_min_k + 1\n",
    "\n",
    "# number of reservoir layers\n",
    "bb = main_grd_max_k - no_of_layers_in_OB\n",
    "\n",
    "aa, bb"
   ]
  },
  {
   "cell_type": "code",
   "execution_count": 148,
   "id": "91e9deac-f9a9-47ee-a76e-ba42460cf095",
   "metadata": {},
   "outputs": [
    {
     "data": {
      "text/plain": [
       "array([10, 10, 10, 10, 10, 10, 10, 10, 10, 10,  1,  1,  1,  1,  1,  1,  1,\n",
       "        1,  1,  1,  1,  1,  1,  1,  1,  1,  1,  1,  1,  1,  1,  1,  1,  1,\n",
       "        1,  1,  1,  1,  1,  1,  1,  1,  1,  1,  1,  1,  1,  1,  1,  1,  1,\n",
       "        1,  1,  1,  1,  1,  1,  1,  1,  1,  1,  1,  1,  1,  1,  1,  1,  1,\n",
       "        1,  1,  1,  1,  1,  1,  1,  1,  1,  1,  1,  1,  1,  1])"
      ]
     },
     "execution_count": 148,
     "metadata": {},
     "output_type": "execute_result"
    }
   ],
   "source": [
    "LGR_numb_z = aa*[10] + bb*[1]\n",
    "LGR_numb_z = np.array(LGR_numb_z)\n",
    "LGR_numb_z"
   ]
  },
  {
   "cell_type": "code",
   "execution_count": 149,
   "id": "05d1eb7f-be56-489a-8084-f3cab8b1c547",
   "metadata": {},
   "outputs": [
    {
     "data": {
      "text/plain": [
       "((82,), (82,))"
      ]
     },
     "execution_count": 149,
     "metadata": {},
     "output_type": "execute_result"
    }
   ],
   "source": [
    "main_DZ.shape, LGR_numb_z.shape"
   ]
  },
  {
   "cell_type": "code",
   "execution_count": 150,
   "id": "f1f3bcd6-52c0-482c-97b2-b66b4e79f3c2",
   "metadata": {},
   "outputs": [
    {
     "data": {
      "text/plain": [
       "(array([30.8, 10. , 10. , 10. , 10. , 10. , 10. , 10. , 10. , 10. ,  5. ,\n",
       "         5. ,  5. ,  5. ,  5. ,  5. ,  5. ,  5. ,  5. ,  5. ,  5. ,  5. ,\n",
       "         5. ,  5. ,  5. ,  5. ,  5. ,  5. ,  5. ,  5. ,  5. ,  5. ,  5. ,\n",
       "         5. ,  5. ,  5. ,  5. ,  5. ,  5. ,  5. ,  5. ,  5. ,  5. ,  5. ,\n",
       "         5. ,  5. ,  5. ,  5. ,  5. ,  5. ,  5. ,  5. ,  5. ,  5. ,  5. ,\n",
       "         5. ,  5. ,  5. ,  5. ,  5. ,  5. ,  5. ,  5. ,  5. ,  5. ,  5. ,\n",
       "         5. ,  5. ,  5. ,  5. ,  5. ,  5. , 10. , 10. , 10. , 10. , 10. ,\n",
       "        10. , 10. , 10. , 10. , 10. ]),\n",
       " 82)"
      ]
     },
     "execution_count": 150,
     "metadata": {},
     "output_type": "execute_result"
    }
   ],
   "source": [
    "LGR_size_z = np.divide(main_DZ, LGR_numb_z)\n",
    "LGR_size_z, len(LGR_size_z)"
   ]
  },
  {
   "cell_type": "code",
   "execution_count": 151,
   "id": "e0336c33-0f72-405f-9950-b556d7248d6c",
   "metadata": {},
   "outputs": [
    {
     "data": {
      "text/plain": [
       "172"
      ]
     },
     "execution_count": 151,
     "metadata": {},
     "output_type": "execute_result"
    }
   ],
   "source": [
    "nn = LGR_numb_z.sum()\n",
    "nn"
   ]
  },
  {
   "cell_type": "code",
   "execution_count": 152,
   "id": "4aa7ef61-d4da-4b01-a6fd-6ff27518f86b",
   "metadata": {},
   "outputs": [
    {
     "data": {
      "text/plain": [
       "(172, 0)"
      ]
     },
     "execution_count": 152,
     "metadata": {},
     "output_type": "execute_result"
    }
   ],
   "source": [
    "LGR_intvl  = np.zeros((nn, 0))\n",
    "LGR_intvl.shape"
   ]
  },
  {
   "cell_type": "code",
   "execution_count": 153,
   "id": "5973a128-caea-40e9-863f-b8f534d7608c",
   "metadata": {},
   "outputs": [],
   "source": [
    "for i in range (0, LGR_numb_z.shape[0]): \n",
    "    LGR_intvl= np.append(LGR_intvl, np.repeat(LGR_size_z[i], LGR_numb_z[i]))"
   ]
  },
  {
   "cell_type": "code",
   "execution_count": 154,
   "id": "4c45ec7e-5410-464e-a6c9-bbf7497908a7",
   "metadata": {},
   "outputs": [
    {
     "data": {
      "text/plain": [
       "(array([30.8, 30.8, 30.8, 30.8, 30.8, 30.8, 30.8, 30.8, 30.8, 30.8, 10. ,\n",
       "        10. , 10. , 10. , 10. , 10. , 10. , 10. , 10. , 10. , 10. , 10. ,\n",
       "        10. , 10. , 10. , 10. , 10. , 10. , 10. , 10. , 10. , 10. , 10. ,\n",
       "        10. , 10. , 10. , 10. , 10. , 10. , 10. , 10. , 10. , 10. , 10. ,\n",
       "        10. , 10. , 10. , 10. , 10. , 10. , 10. , 10. , 10. , 10. , 10. ,\n",
       "        10. , 10. , 10. , 10. , 10. , 10. , 10. , 10. , 10. , 10. , 10. ,\n",
       "        10. , 10. , 10. , 10. , 10. , 10. , 10. , 10. , 10. , 10. , 10. ,\n",
       "        10. , 10. , 10. , 10. , 10. , 10. , 10. , 10. , 10. , 10. , 10. ,\n",
       "        10. , 10. , 10. , 10. , 10. , 10. , 10. , 10. , 10. , 10. , 10. ,\n",
       "        10. ,  5. ,  5. ,  5. ,  5. ,  5. ,  5. ,  5. ,  5. ,  5. ,  5. ,\n",
       "         5. ,  5. ,  5. ,  5. ,  5. ,  5. ,  5. ,  5. ,  5. ,  5. ,  5. ,\n",
       "         5. ,  5. ,  5. ,  5. ,  5. ,  5. ,  5. ,  5. ,  5. ,  5. ,  5. ,\n",
       "         5. ,  5. ,  5. ,  5. ,  5. ,  5. ,  5. ,  5. ,  5. ,  5. ,  5. ,\n",
       "         5. ,  5. ,  5. ,  5. ,  5. ,  5. ,  5. ,  5. ,  5. ,  5. ,  5. ,\n",
       "         5. ,  5. ,  5. ,  5. ,  5. ,  5. ,  5. ,  5. , 10. , 10. , 10. ,\n",
       "        10. , 10. , 10. , 10. , 10. , 10. , 10. ]),\n",
       " (172,),\n",
       " 4.0)"
      ]
     },
     "execution_count": 154,
     "metadata": {},
     "output_type": "execute_result"
    }
   ],
   "source": [
    "LGR_intvl, LGR_intvl.shape, ref_depth"
   ]
  },
  {
   "cell_type": "code",
   "execution_count": 155,
   "id": "1cdd1a16-5332-45fe-aec3-76725b6c6700",
   "metadata": {},
   "outputs": [],
   "source": [
    "# extract casing IDs\n",
    "casing_IDs = list(map(lambda casing: casing.ID, casings))"
   ]
  },
  {
   "cell_type": "code",
   "execution_count": 156,
   "id": "542de4c4-a7da-47dc-9af8-c21d4acf6e60",
   "metadata": {},
   "outputs": [],
   "source": [
    "# generate LGR grids\n",
    "LGR_sizes_xy, LGR_depths, LGR_numb_z, min_grd_size = \\\n",
    "        generate_LGR_grids(casing_IDs,\n",
    "                            main_grd_dx, main_DZ,\n",
    "                            ref_depth,\n",
    "                            main_grd_min_k, main_grd_max_k,\n",
    "                            no_of_layers_in_OB)"
   ]
  },
  {
   "cell_type": "code",
   "execution_count": 157,
   "id": "e63ae00e-caca-4cfc-99a5-de4c9bea305f",
   "metadata": {},
   "outputs": [
    {
     "data": {
      "text/plain": [
       "(array([  34.8,   65.6,   96.4,  127.2,  158. ,  188.8,  219.6,  250.4,\n",
       "         281.2,  312. ,  322. ,  332. ,  342. ,  352. ,  362. ,  372. ,\n",
       "         382. ,  392. ,  402. ,  412. ,  422. ,  432. ,  442. ,  452. ,\n",
       "         462. ,  472. ,  482. ,  492. ,  502. ,  512. ,  522. ,  532. ,\n",
       "         542. ,  552. ,  562. ,  572. ,  582. ,  592. ,  602. ,  612. ,\n",
       "         622. ,  632. ,  642. ,  652. ,  662. ,  672. ,  682. ,  692. ,\n",
       "         702. ,  712. ,  722. ,  732. ,  742. ,  752. ,  762. ,  772. ,\n",
       "         782. ,  792. ,  802. ,  812. ,  822. ,  832. ,  842. ,  852. ,\n",
       "         862. ,  872. ,  882. ,  892. ,  902. ,  912. ,  922. ,  932. ,\n",
       "         942. ,  952. ,  962. ,  972. ,  982. ,  992. , 1002. , 1012. ,\n",
       "        1022. , 1032. , 1042. , 1052. , 1062. , 1072. , 1082. , 1092. ,\n",
       "        1102. , 1112. , 1122. , 1132. , 1142. , 1152. , 1162. , 1172. ,\n",
       "        1182. , 1192. , 1202. , 1212. , 1217. , 1222. , 1227. , 1232. ,\n",
       "        1237. , 1242. , 1247. , 1252. , 1257. , 1262. , 1267. , 1272. ,\n",
       "        1277. , 1282. , 1287. , 1292. , 1297. , 1302. , 1307. , 1312. ,\n",
       "        1317. , 1322. , 1327. , 1332. , 1337. , 1342. , 1347. , 1352. ,\n",
       "        1357. , 1362. , 1367. , 1372. , 1377. , 1382. , 1387. , 1392. ,\n",
       "        1397. , 1402. , 1407. , 1412. , 1417. , 1422. , 1427. , 1432. ,\n",
       "        1437. , 1442. , 1447. , 1452. , 1457. , 1462. , 1467. , 1472. ,\n",
       "        1477. , 1482. , 1487. , 1492. , 1497. , 1502. , 1507. , 1512. ,\n",
       "        1517. , 1522. , 1532. , 1542. , 1552. , 1562. , 1572. , 1582. ,\n",
       "        1592. , 1602. , 1612. , 1622. ]),\n",
       " 172)"
      ]
     },
     "execution_count": 157,
     "metadata": {},
     "output_type": "execute_result"
    }
   ],
   "source": [
    "LGR_depths, len(LGR_depths)"
   ]
  },
  {
   "cell_type": "code",
   "execution_count": 158,
   "id": "bae11ab9-13f7-4e72-84b4-6767f49065a3",
   "metadata": {},
   "outputs": [
    {
     "data": {
      "text/plain": [
       "([94.0,\n",
       "  5.0,\n",
       "  0.5,\n",
       "  0.05,\n",
       "  0.05,\n",
       "  0.05,\n",
       "  0.05,\n",
       "  0.05,\n",
       "  0.05,\n",
       "  0.05,\n",
       "  0.05,\n",
       "  0.05,\n",
       "  0.05,\n",
       "  0.05,\n",
       "  0.05,\n",
       "  0.05,\n",
       "  0.05,\n",
       "  0.05,\n",
       "  0.05,\n",
       "  0.05,\n",
       "  0.05,\n",
       "  0.05,\n",
       "  0.05,\n",
       "  0.5,\n",
       "  5.0,\n",
       "  94.0],\n",
       " 26)"
      ]
     },
     "execution_count": 158,
     "metadata": {},
     "output_type": "execute_result"
    }
   ],
   "source": [
    "LGR_sizes_xy, len(LGR_sizes_xy)"
   ]
  },
  {
   "cell_type": "code",
   "execution_count": 159,
   "id": "d09d404a-b47e-4a2d-930e-827f1a4ebc68",
   "metadata": {},
   "outputs": [
    {
     "data": {
      "text/plain": [
       "(array([10, 10, 10, 10, 10, 10, 10, 10, 10, 10,  1,  1,  1,  1,  1,  1,  1,\n",
       "         1,  1,  1,  1,  1,  1,  1,  1,  1,  1,  1,  1,  1,  1,  1,  1,  1,\n",
       "         1,  1,  1,  1,  1,  1,  1,  1,  1,  1,  1,  1,  1,  1,  1,  1,  1,\n",
       "         1,  1,  1,  1,  1,  1,  1,  1,  1,  1,  1,  1,  1,  1,  1,  1,  1,\n",
       "         1,  1,  1,  1,  1,  1,  1,  1,  1,  1,  1,  1,  1,  1]),\n",
       " 82)"
      ]
     },
     "execution_count": 159,
     "metadata": {},
     "output_type": "execute_result"
    }
   ],
   "source": [
    "LGR_numb_z, len(LGR_numb_z)"
   ]
  },
  {
   "cell_type": "markdown",
   "id": "6a82d217-4369-43f9-acb9-475ccdf75059",
   "metadata": {},
   "source": [
    "## Test bounding boxes for casings"
   ]
  },
  {
   "cell_type": "code",
   "execution_count": 160,
   "id": "d7191016-c814-4d06-aeaa-07a89332c64e",
   "metadata": {},
   "outputs": [],
   "source": [
    "def test_casing_cement(casing_geom, \n",
    "                                LGR_sizes_xy, \n",
    "                                LGR_depths, \n",
    "                                min_grd_size):\n",
    "    # 1. casing\n",
    "    ID, x_min_pipe, x_max_pipe, y_min_pipe, y_max_pipe, k_min_pipe, k_max_pipe, k_min_hole, k_max_hole = \\\n",
    "    bbox_for_pipe_with_oph_sec (casing_geom, \n",
    "                                LGR_sizes_xy, \n",
    "                                LGR_depths, \n",
    "                                min_grd_size)\n",
    "    print('Casing:')\n",
    "    print(ID, x_min_pipe, x_max_pipe, y_min_pipe, y_max_pipe, k_min_pipe, k_max_pipe, k_min_hole, k_max_hole)\n",
    "\n",
    "    # 2. cement\n",
    "    ID, x_min_pipe, x_max_pipe, y_min_pipe, y_max_pipe, k_min_CB, k_max_CB = \\\n",
    "    bbox_for_cement_bond (casing_geom, \n",
    "                            LGR_sizes_xy, \n",
    "                            LGR_depths, \n",
    "                            min_grd_size)\n",
    "    print('Cement-bond:')\n",
    "    print(ID, x_min_pipe, x_max_pipe, y_min_pipe, y_max_pipe, k_min_CB, k_max_CB)"
   ]
  },
  {
   "cell_type": "code",
   "execution_count": 161,
   "id": "c403e13a-9bbc-4939-994f-27b98db71c49",
   "metadata": {},
   "outputs": [],
   "source": [
    "def test_barrier(barrier_geom, \n",
    "                    LGR_sizes_xy, \n",
    "                    LGR_depths, \n",
    "                    min_grd_size):\n",
    "    # barrier\n",
    "    ID, x_min_bar, x_max_bar, y_min_bar, y_max_bar, k_min_bar, k_max_bar = \\\n",
    "    bbox_for_barrier (barrier_geom, \n",
    "                        LGR_sizes_xy, \n",
    "                        LGR_depths, \n",
    "                        min_grd_size)\n",
    "    print('Barrier:')\n",
    "    print(ID, x_min_bar, x_max_bar, y_min_bar, y_max_bar, k_min_bar, k_max_bar)"
   ]
  },
  {
   "cell_type": "code",
   "execution_count": 162,
   "id": "114a5e51-aacf-46d8-b848-ba48e1a202d5",
   "metadata": {},
   "outputs": [],
   "source": [
    "# for convenience\n",
    "cond_Casing = casings[0]\n",
    "surf_Casing = casings[1]\n",
    "prod_Casing = casings[2]"
   ]
  },
  {
   "cell_type": "code",
   "execution_count": 163,
   "id": "3b4f47d4-a387-4043-9024-3c0aad4ec768",
   "metadata": {},
   "outputs": [
    {
     "name": "stdout",
     "output_type": "stream",
     "text": [
      "Casing:\n",
      "0.762 6 21 6 21 10 16 1 16\n",
      "Cement-bond:\n",
      "0.762 6 21 6 21 10 16\n"
     ]
    }
   ],
   "source": [
    "# conductor casing\n",
    "test_casing_cement(cond_Casing, LGR_sizes_xy, LGR_depths, min_grd_size)"
   ]
  },
  {
   "cell_type": "code",
   "execution_count": 164,
   "id": "9b9f706d-65ad-4f59-a8fa-d1e49838ffc9",
   "metadata": {},
   "outputs": [
    {
     "name": "stdout",
     "output_type": "stream",
     "text": [
      "Casing:\n",
      "0.3397 10 16 10 16 10 47 10 48\n",
      "Cement-bond:\n",
      "0.3397 10 16 10 16 10 47\n"
     ]
    }
   ],
   "source": [
    "# surface casing\n",
    "test_casing_cement(surf_Casing, LGR_sizes_xy, LGR_depths, min_grd_size)"
   ]
  },
  {
   "cell_type": "code",
   "execution_count": 165,
   "id": "458e95b4-3902-4f17-8c44-a903478542ce",
   "metadata": {},
   "outputs": [
    {
     "name": "stdout",
     "output_type": "stream",
     "text": [
      "Casing:\n",
      "0.244 11 15 11 15 39 90 39 172\n",
      "Cement-bond:\n",
      "0.244 11 15 11 15 47 90\n"
     ]
    }
   ],
   "source": [
    "# production casing\n",
    "test_casing_cement(prod_Casing, LGR_sizes_xy, LGR_depths, min_grd_size)"
   ]
  },
  {
   "cell_type": "code",
   "execution_count": 166,
   "id": "0646c40d-4d60-4d43-8f95-c4788a8eb7dd",
   "metadata": {},
   "outputs": [
    {
     "name": "stdout",
     "output_type": "stream",
     "text": [
      "Barrier:\n",
      "0.3397 10 16 10 16 14 35\n"
     ]
    }
   ],
   "source": [
    "# barrier 1\n",
    "barrier_geom = barriers[0]\n",
    "test_barrier(barrier_geom, LGR_sizes_xy, LGR_depths, min_grd_size)"
   ]
  },
  {
   "cell_type": "code",
   "execution_count": 167,
   "id": "f7b3547f-3096-4968-a7fa-582028b4941f",
   "metadata": {},
   "outputs": [
    {
     "name": "stdout",
     "output_type": "stream",
     "text": [
      "Barrier:\n",
      "0.244 11 15 11 15 81 83\n"
     ]
    }
   ],
   "source": [
    "# barrier 2\n",
    "barrier_geom = barriers[1]\n",
    "test_barrier(barrier_geom, LGR_sizes_xy, LGR_depths, min_grd_size)"
   ]
  },
  {
   "cell_type": "code",
   "execution_count": null,
   "id": "23c3ef58-8a65-4f8d-b588-f7f28f65ce16",
   "metadata": {},
   "outputs": [],
   "source": []
  },
  {
   "cell_type": "markdown",
   "id": "7dca358c-4d0c-46ff-af0e-d2ad0ae1d59a",
   "metadata": {},
   "source": [
    "## Build LGR grid and output .grdecl"
   ]
  },
  {
   "cell_type": "code",
   "execution_count": 168,
   "id": "ba4810b9-18bf-4c90-a3e4-06eb0a717fc9",
   "metadata": {},
   "outputs": [
    {
     "name": "stdout",
     "output_type": "stream",
     "text": [
      "Generate LGR and output...\n",
      "...Prints isolating OVB from reservoir keywords in LEG_HIRES.grdecl file\n",
      "...Prints CARFIN Keywords in LEG_HIRES.grdecl file\n",
      "...Prints Casings, cement bonds and barrie(s) in LEG_HIRES.grdecl file\n",
      "...Prints isolating OVB from reservoir in the LGR in LEG_HIRES.grdecl file\n",
      "Output LGR CARFIN to:  /scratch/SCS/hzh/SCREEN/src/GaP/data/smeaheia/LEG_HIRES.grdecl\n"
     ]
    }
   ],
   "source": [
    "################# 3. generate grdecl ##################################\n",
    "print ('Generate LGR and output...') \n",
    "\n",
    "build_grdecl(output_folder, LGR_NAME,\n",
    "                casings,\n",
    "                barriers,\n",
    "                LGR_sizes_xy, \n",
    "                LGR_depths, \n",
    "                LGR_numb_z, \n",
    "                min_grd_size,\n",
    "                grid.getNX(), grid.getNY(),\n",
    "                main_grd_i, main_grd_j,\n",
    "                main_grd_min_k, main_grd_max_k,\n",
    "                no_of_layers_in_OB)"
   ]
  },
  {
   "cell_type": "markdown",
   "id": "25b3b9c8-9354-4a42-ae85-60f888b51282",
   "metadata": {},
   "source": [
    "## Benchmark against the saved one"
   ]
  },
  {
   "cell_type": "code",
   "execution_count": 169,
   "id": "b4792567-ab7e-40b0-8e9e-ad672f973f16",
   "metadata": {},
   "outputs": [
    {
     "name": "stdout",
     "output_type": "stream",
     "text": [
      "-rw-rw-r-- 1 hzh scs_ccs 5383 Aug 30 18:59 ../data/smeaheia/LEG_HIRES.grdecl\n",
      "-rw-rw-r-- 1 hzh scs_ccs 5383 Aug  2 20:42 ../data/smeaheia/LEG_HIRES.grdecl.original\n"
     ]
    }
   ],
   "source": [
    "# check existence sof the saved benchmark result and the new result\n",
    "!ls -l $input_folder/LEG_HIRES.grdecl.original $output_folder/LEG_HIRES.grdecl"
   ]
  },
  {
   "cell_type": "code",
   "execution_count": 170,
   "id": "4dce6d8e-1481-4620-b20a-5cd3f596eb43",
   "metadata": {},
   "outputs": [],
   "source": [
    "# check the difference between the new result with original backup\n",
    "!diff  $input_folder/LEG_HIRES.grdecl.original $output_folder/LEG_HIRES.grdecl"
   ]
  },
  {
   "cell_type": "markdown",
   "id": "f0e5a8e8-cac5-487f-8f5e-ece3ee816a59",
   "metadata": {},
   "source": [
    "## Visualization"
   ]
  },
  {
   "cell_type": "code",
   "execution_count": 171,
   "id": "93d5677f-4b71-453e-a3b6-bb188d6cece6",
   "metadata": {},
   "outputs": [
    {
     "name": "stdout",
     "output_type": "stream",
     "text": [
      "Visualizes the well and its locationin OVB and reservoir...\n"
     ]
    }
   ],
   "source": [
    "################## 4. visualize Well Sketch Design ################\n",
    "print ('Visualizes the well and its locationin OVB and reservoir...') "
   ]
  },
  {
   "cell_type": "code",
   "execution_count": 172,
   "id": "22b2686b-7927-445c-a70c-f5f0e25323bd",
   "metadata": {},
   "outputs": [
    {
     "data": {
      "text/plain": [
       "(158.0, 1214.5, 1459.5)"
      ]
     },
     "execution_count": 172,
     "metadata": {},
     "output_type": "execute_result"
    }
   ],
   "source": [
    "# Overburden / Reservoir Design\n",
    "ref_depth1 = make_stat_3d_main(grid, init, 'DEPTH', 0)[main_grd_i-1,main_grd_j-1, 0]\n",
    "ref_depth2 = make_stat_3d_main(grid, init, 'DEPTH', 0)[main_grd_i-1,main_grd_j-1, no_of_layers_in_OB]\n",
    "ref_depth3 = make_stat_3d_main(grid, init, 'DEPTH', 0)[main_grd_i-1,main_grd_j-1, 59]\n",
    "ref_depth1, ref_depth2, ref_depth3"
   ]
  },
  {
   "cell_type": "code",
   "execution_count": 173,
   "id": "dc256ed7-b232-49c2-978f-907ba926e4ad",
   "metadata": {},
   "outputs": [
    {
     "data": {
      "image/png": "[encoded data removed]",
      "text/plain": [
       "<Figure size 640x480 with 1 Axes>"
      ]
     },
     "metadata": {},
     "output_type": "display_data"
    }
   ],
   "source": [
    "# 1. conductor casing\n",
    "pipe_plotter (cond_Casing,\n",
    "            LGR_depths,\n",
    "            plt)\n",
    "# 2. surface casing\n",
    "pipe_plotter (surf_Casing,\n",
    "            LGR_depths,\n",
    "            plt)\n",
    "# 3. production casing\n",
    "pipe_plotter (prod_Casing,\n",
    "            LGR_depths,\n",
    "            plt)\n",
    "\n",
    "# 4. barriers\n",
    "for barrier in barriers:\n",
    "    barrier_plotter(barrier,\n",
    "                    plt)  \n",
    "\n",
    "# 5. OB/reservoir\n",
    "ob_reservoir_plotter(ref_depth1, ref_depth2, ref_depth3, plt)\n",
    "\n",
    "plt.xlim(-4,4);\n"
   ]
  },
  {
   "cell_type": "markdown",
   "id": "83cd7004-6c2f-4deb-a87f-242c7cd67346",
   "metadata": {},
   "source": [
    "### Breakup of the plots"
   ]
  },
  {
   "cell_type": "code",
   "execution_count": 174,
   "id": "f7c288d4-5c8f-4663-b2a2-0672789a2bc1",
   "metadata": {},
   "outputs": [
    {
     "data": {
      "image/png": "[encoded data removed]",
      "text/plain": [
       "<Figure size 640x480 with 1 Axes>"
      ]
     },
     "metadata": {},
     "output_type": "display_data"
    }
   ],
   "source": [
    "# conductor casing\n",
    "pipe_plotter (cond_Casing,\n",
    "            LGR_depths,\n",
    "            plt)"
   ]
  },
  {
   "cell_type": "code",
   "execution_count": 175,
   "id": "cdd0467e-8b33-40da-82a5-bcdb8ad77c32",
   "metadata": {},
   "outputs": [
    {
     "data": {
      "image/png": "[encoded data removed]",
      "text/plain": [
       "<Figure size 640x480 with 1 Axes>"
      ]
     },
     "metadata": {},
     "output_type": "display_data"
    }
   ],
   "source": [
    "# surface casing\n",
    "pipe_plotter (surf_Casing,\n",
    "            LGR_depths,\n",
    "            plt)"
   ]
  },
  {
   "cell_type": "code",
   "execution_count": 176,
   "id": "0e33d739-f96e-49b1-bac6-e216b4e2516c",
   "metadata": {},
   "outputs": [
    {
     "data": {
      "image/png": "[encoded data removed]",
      "text/plain": [
       "<Figure size 640x480 with 1 Axes>"
      ]
     },
     "metadata": {},
     "output_type": "display_data"
    }
   ],
   "source": [
    "# production casing\n",
    "pipe_plotter (prod_Casing,\n",
    "            LGR_depths,\n",
    "            plt)"
   ]
  },
  {
   "cell_type": "code",
   "execution_count": 177,
   "id": "4fae543f-65b6-41eb-8fd5-daf33d254ab5",
   "metadata": {},
   "outputs": [
    {
     "data": {
      "image/png": "[encoded data removed]",
      "text/plain": [
       "<Figure size 640x480 with 1 Axes>"
      ]
     },
     "metadata": {},
     "output_type": "display_data"
    }
   ],
   "source": [
    "for barrier in barriers:\n",
    "    barrier_plotter(barrier,\n",
    "                    plt)  "
   ]
  }
 ],
 "metadata": {
  "kernelspec": {
   "display_name": "Python 3 (ipykernel)",
   "language": "python",
   "name": "python3"
  },
  "language_info": {
   "codemirror_mode": {
    "name": "ipython",
    "version": 3
   },
   "file_extension": ".py",
   "mimetype": "text/x-python",
   "name": "python",
   "nbconvert_exporter": "python",
   "pygments_lexer": "ipython3",
   "version": "3.10.12"
  }
 },
 "nbformat": 4,
 "nbformat_minor": 5
}
